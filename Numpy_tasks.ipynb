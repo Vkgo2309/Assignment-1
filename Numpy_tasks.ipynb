{
  "cells": [
    {
      "cell_type": "markdown",
      "metadata": {
        "id": "view-in-github",
        "colab_type": "text"
      },
      "source": [
        "<a href=\"https://colab.research.google.com/github/Vkgo2309/Assignment-1/blob/main/Numpy_tasks.ipynb\" target=\"_parent\"><img src=\"https://colab.research.google.com/assets/colab-badge.svg\" alt=\"Open In Colab\"/></a>"
      ]
    },
    {
      "cell_type": "markdown",
      "metadata": {
        "id": "FSCWmqn9oH5F"
      },
      "source": [
        "# Numpy\n",
        "\n"
      ]
    },
    {
      "cell_type": "markdown",
      "metadata": {
        "id": "t3eiR9kkoH5J"
      },
      "source": [
        "#### 1. Import the numpy package under the name `np` (★☆☆) \n",
        "(**hint**: import … as …)"
      ]
    },
    {
      "cell_type": "code",
      "execution_count": 1,
      "metadata": {
        "collapsed": true,
        "id": "Nr6obAAroH5K"
      },
      "outputs": [],
      "source": [
        "import numpy as np"
      ]
    },
    {
      "cell_type": "markdown",
      "metadata": {
        "id": "CKbpKevroH5L"
      },
      "source": [
        "#### 2. Print the numpy version and the configuration (★☆☆) \n",
        "(**hint**: np.\\_\\_version\\_\\_, np.show\\_config)"
      ]
    },
    {
      "cell_type": "code",
      "execution_count": 2,
      "metadata": {
        "id": "s6eTGI9JoH5L",
        "outputId": "f6820c30-26a9-4a9b-ee1a-a84440f16aa3",
        "colab": {
          "base_uri": "https://localhost:8080/"
        }
      },
      "outputs": [
        {
          "output_type": "stream",
          "name": "stdout",
          "text": [
            "blas_mkl_info:\n",
            "  NOT AVAILABLE\n",
            "blis_info:\n",
            "  NOT AVAILABLE\n",
            "openblas_info:\n",
            "    libraries = ['openblas', 'openblas']\n",
            "    library_dirs = ['/usr/local/lib']\n",
            "    language = c\n",
            "    define_macros = [('HAVE_CBLAS', None)]\n",
            "    runtime_library_dirs = ['/usr/local/lib']\n",
            "blas_opt_info:\n",
            "    libraries = ['openblas', 'openblas']\n",
            "    library_dirs = ['/usr/local/lib']\n",
            "    language = c\n",
            "    define_macros = [('HAVE_CBLAS', None)]\n",
            "    runtime_library_dirs = ['/usr/local/lib']\n",
            "lapack_mkl_info:\n",
            "  NOT AVAILABLE\n",
            "openblas_lapack_info:\n",
            "    libraries = ['openblas', 'openblas']\n",
            "    library_dirs = ['/usr/local/lib']\n",
            "    language = c\n",
            "    define_macros = [('HAVE_CBLAS', None)]\n",
            "    runtime_library_dirs = ['/usr/local/lib']\n",
            "lapack_opt_info:\n",
            "    libraries = ['openblas', 'openblas']\n",
            "    library_dirs = ['/usr/local/lib']\n",
            "    language = c\n",
            "    define_macros = [('HAVE_CBLAS', None)]\n",
            "    runtime_library_dirs = ['/usr/local/lib']\n",
            "Supported SIMD extensions in this NumPy install:\n",
            "    baseline = SSE,SSE2,SSE3\n",
            "    found = SSSE3,SSE41,POPCNT,SSE42,AVX,F16C,FMA3,AVX2\n",
            "    not found = AVX512F,AVX512CD,AVX512_KNL,AVX512_KNM,AVX512_SKX,AVX512_CLX,AVX512_CNL,AVX512_ICL\n"
          ]
        }
      ],
      "source": [
        "np.__version__\n",
        "np.show_config()"
      ]
    },
    {
      "cell_type": "markdown",
      "metadata": {
        "id": "Eg_NJ237oH5M"
      },
      "source": [
        "#### 3. Create a null vector of size 10 (★☆☆) \n",
        "(**hint**: np.zeros)"
      ]
    },
    {
      "cell_type": "code",
      "execution_count": 3,
      "metadata": {
        "id": "1eNNPFRToH5M"
      },
      "outputs": [],
      "source": [
        "A= np.zeros(10)"
      ]
    },
    {
      "cell_type": "markdown",
      "metadata": {
        "id": "CEvI1x9ZoH5N"
      },
      "source": [
        "#### 4.  How to find the memory size of any array (★☆☆) \n",
        "(**hint**: size, itemsize)"
      ]
    },
    {
      "cell_type": "code",
      "execution_count": 4,
      "metadata": {
        "id": "2nsXTSWAoH5N",
        "outputId": "a76ad50c-fa31-4d0b-ae3a-a1298a8d359f",
        "colab": {
          "base_uri": "https://localhost:8080/"
        }
      },
      "outputs": [
        {
          "output_type": "execute_result",
          "data": {
            "text/plain": [
              "10"
            ]
          },
          "metadata": {},
          "execution_count": 4
        }
      ],
      "source": [
        "np.size(A)"
      ]
    },
    {
      "cell_type": "markdown",
      "metadata": {
        "id": "rINz6gQxoH5O"
      },
      "source": [
        "#### 5.  How to get the documentation of the numpy add function from the command line? (★☆☆) \n",
        "(**hint**: np.info)"
      ]
    },
    {
      "cell_type": "code",
      "execution_count": 5,
      "metadata": {
        "collapsed": true,
        "id": "m-lOCc2eoH5O",
        "outputId": "5a26ad57-aa06-47af-a9e4-1fd2de397071",
        "colab": {
          "base_uri": "https://localhost:8080/"
        }
      },
      "outputs": [
        {
          "output_type": "stream",
          "name": "stdout",
          "text": [
            "class:  ndarray\n",
            "shape:  (10,)\n",
            "strides:  (8,)\n",
            "itemsize:  8\n",
            "aligned:  True\n",
            "contiguous:  True\n",
            "fortran:  True\n",
            "data pointer: 0x1926580\n",
            "byteorder:  little\n",
            "byteswap:  False\n",
            "type: float64\n"
          ]
        }
      ],
      "source": [
        "np.info(A)"
      ]
    },
    {
      "cell_type": "markdown",
      "metadata": {
        "id": "_I17Md3LoH5P"
      },
      "source": [
        "#### 6.  Create a null vector of size 10 but the fifth value which is 1 (★☆☆) \n",
        "(**hint**: array\\[4\\])"
      ]
    },
    {
      "cell_type": "code",
      "execution_count": 6,
      "metadata": {
        "id": "uygCCZ30oH5P",
        "outputId": "ca70f439-2b36-4352-97aa-adbcbd24fde5",
        "colab": {
          "base_uri": "https://localhost:8080/"
        }
      },
      "outputs": [
        {
          "output_type": "stream",
          "name": "stdout",
          "text": [
            "[0. 0. 0. 0. 1. 0. 0. 0. 0. 0.]\n"
          ]
        }
      ],
      "source": [
        "A[4]=1\n",
        "print(A)"
      ]
    },
    {
      "cell_type": "markdown",
      "metadata": {
        "id": "2-F-icsfoH5Q"
      },
      "source": [
        "#### 7.  Create a vector with values ranging from 10 to 49 (★☆☆) \n",
        "(**hint**: np.arange)"
      ]
    },
    {
      "cell_type": "code",
      "execution_count": 7,
      "metadata": {
        "id": "6aMI-hqDoH5Q",
        "outputId": "3c165182-d102-48e8-fdb2-fbaeb888b5e5",
        "colab": {
          "base_uri": "https://localhost:8080/"
        }
      },
      "outputs": [
        {
          "output_type": "stream",
          "name": "stdout",
          "text": [
            "[10 11 12 13 14 15 16 17 18 19 20 21 22 23 24 25 26 27 28 29 30 31 32 33\n",
            " 34 35 36 37 38 39 40 41 42 43 44 45 46 47 48 49]\n"
          ]
        }
      ],
      "source": [
        "B= np.arange(10,50)\n",
        "print(B)"
      ]
    },
    {
      "cell_type": "markdown",
      "metadata": {
        "id": "DG6I9TLooH5R"
      },
      "source": [
        "#### 8.  Reverse a vector (first element becomes last) (★☆☆) \n",
        "(**hint**: array\\[::-1\\])"
      ]
    },
    {
      "cell_type": "code",
      "execution_count": 8,
      "metadata": {
        "id": "nKl8t-8XoH5R",
        "outputId": "a3291c95-1d97-4b6d-b34b-5ab59ddbe4fc",
        "colab": {
          "base_uri": "https://localhost:8080/"
        }
      },
      "outputs": [
        {
          "output_type": "execute_result",
          "data": {
            "text/plain": [
              "array([49, 48, 47, 46, 45, 44, 43, 42, 41, 40, 39, 38, 37, 36, 35, 34, 33,\n",
              "       32, 31, 30, 29, 28, 27, 26, 25, 24, 23, 22, 21, 20, 19, 18, 17, 16,\n",
              "       15, 14, 13, 12, 11, 10])"
            ]
          },
          "metadata": {},
          "execution_count": 8
        }
      ],
      "source": [
        "B[::-1]"
      ]
    },
    {
      "cell_type": "markdown",
      "metadata": {
        "id": "IHND9NaOoH5R"
      },
      "source": [
        "#### 9.  Create a 3x3 matrix with values ranging from 0 to 8 (★☆☆) \n",
        "(**hint**: reshape)"
      ]
    },
    {
      "cell_type": "code",
      "execution_count": 9,
      "metadata": {
        "id": "BASwFsQRoH5R",
        "outputId": "010837e8-4f6a-4f40-f9ec-6a7f4bf8d9f3",
        "colab": {
          "base_uri": "https://localhost:8080/"
        }
      },
      "outputs": [
        {
          "output_type": "stream",
          "name": "stdout",
          "text": [
            "[[0 1 2]\n",
            " [3 4 5]\n",
            " [6 7 8]]\n"
          ]
        }
      ],
      "source": [
        "mat = np.arange(0, 9).reshape((3, 3))\n",
        "print(mat)"
      ]
    },
    {
      "cell_type": "markdown",
      "metadata": {
        "id": "sEbw8ymHoH5S"
      },
      "source": [
        "#### 10. Find indices of non-zero elements from \\[1,2,0,0,4,0\\] (★☆☆) \n",
        "(**hint**: np.nonzero)"
      ]
    },
    {
      "cell_type": "code",
      "execution_count": 10,
      "metadata": {
        "id": "tJSIYccNoH5S",
        "outputId": "2dcd71e5-5362-4482-cea6-992ed1701028",
        "colab": {
          "base_uri": "https://localhost:8080/"
        }
      },
      "outputs": [
        {
          "output_type": "execute_result",
          "data": {
            "text/plain": [
              "(array([0, 1, 4]),)"
            ]
          },
          "metadata": {},
          "execution_count": 10
        }
      ],
      "source": [
        "a=[1,2,0,0,4,0]\n",
        "np.nonzero(a)"
      ]
    },
    {
      "cell_type": "markdown",
      "metadata": {
        "id": "pfXT3P5poH5S"
      },
      "source": [
        "#### 11. Create a 3x3 identity matrix (★☆☆) \n",
        "(**hint**: np.eye)"
      ]
    },
    {
      "cell_type": "code",
      "execution_count": 11,
      "metadata": {
        "id": "RA0CMAm0oH5S",
        "outputId": "0b615d77-00e6-4c47-b77c-597413a22b92",
        "colab": {
          "base_uri": "https://localhost:8080/"
        }
      },
      "outputs": [
        {
          "output_type": "stream",
          "name": "stdout",
          "text": [
            "[[1. 0. 0.]\n",
            " [0. 1. 0.]\n",
            " [0. 0. 1.]]\n"
          ]
        }
      ],
      "source": [
        "mat1=np.eye(3,3)\n",
        "print(mat1)"
      ]
    },
    {
      "cell_type": "markdown",
      "metadata": {
        "id": "yfAg5KeGoH5T"
      },
      "source": [
        "#### 12. Create a 3x3x3 array with random values (★☆☆) \n",
        "(**hint**: np.random.random)"
      ]
    },
    {
      "cell_type": "code",
      "execution_count": 12,
      "metadata": {
        "collapsed": true,
        "id": "kc8rvqZuoH5T",
        "outputId": "5ebae84a-7579-47df-f508-7c51ab4cd2e6",
        "colab": {
          "base_uri": "https://localhost:8080/"
        }
      },
      "outputs": [
        {
          "output_type": "execute_result",
          "data": {
            "text/plain": [
              "array([[[0.75356602, 0.95196589, 0.15489725],\n",
              "        [0.32765519, 0.89698826, 0.8670856 ],\n",
              "        [0.10408469, 0.52845955, 0.53940902]],\n",
              "\n",
              "       [[0.3183293 , 0.34952554, 0.68631953],\n",
              "        [0.22645386, 0.76176447, 0.44375199],\n",
              "        [0.42793753, 0.7669466 , 0.63823997]],\n",
              "\n",
              "       [[0.46853875, 0.24682615, 0.01195924],\n",
              "        [0.44915997, 0.20178578, 0.53038864],\n",
              "        [0.21217319, 0.35115183, 0.64848198]]])"
            ]
          },
          "metadata": {},
          "execution_count": 12
        }
      ],
      "source": [
        " np.random.random((3,3,3))"
      ]
    },
    {
      "cell_type": "markdown",
      "metadata": {
        "id": "4s5Pa3omoH5T"
      },
      "source": [
        "#### 13. Create a 10x10 array with random values and find the minimum and maximum values (★☆☆) \n",
        "(**hint**: min, max)"
      ]
    },
    {
      "cell_type": "code",
      "execution_count": 13,
      "metadata": {
        "id": "3JjT2RRQoH5T",
        "outputId": "ef7990a6-cefe-4cde-fdf2-bab1c08e7274",
        "colab": {
          "base_uri": "https://localhost:8080/"
        }
      },
      "outputs": [
        {
          "output_type": "stream",
          "name": "stdout",
          "text": [
            "[[0.10703575 0.81973688 0.01512405 0.7503432  0.49124936 0.46793197\n",
            "  0.47470606 0.56437957 0.25758297 0.31784875]\n",
            " [0.96846626 0.9093782  0.9098916  0.84475931 0.09138902 0.1952776\n",
            "  0.37910751 0.04426768 0.67724142 0.2472052 ]\n",
            " [0.10113034 0.66200109 0.14408242 0.61971504 0.22746645 0.13008842\n",
            "  0.07677386 0.49332512 0.15519579 0.26006626]\n",
            " [0.2151673  0.18977162 0.01504842 0.72898656 0.1382316  0.58328826\n",
            "  0.36932355 0.06688064 0.0513979  0.80446431]\n",
            " [0.1118195  0.1896316  0.08598159 0.47466626 0.80946797 0.38305316\n",
            "  0.73874062 0.4317975  0.37962984 0.75976808]\n",
            " [0.96304064 0.47774135 0.57775599 0.46409193 0.63899965 0.80060577\n",
            "  0.11968293 0.82316758 0.79495956 0.44590312]\n",
            " [0.71514974 0.61702142 0.25509228 0.23281032 0.57703201 0.48781094\n",
            "  0.7520161  0.59939591 0.59699151 0.0209763 ]\n",
            " [0.13149992 0.76630558 0.00575355 0.78600523 0.30328789 0.91455983\n",
            "  0.75579081 0.63765778 0.45262471 0.87033239]\n",
            " [0.35488658 0.3940467  0.0148357  0.24072002 0.94902793 0.23519573\n",
            "  0.26087949 0.62307059 0.48080332 0.57719493]\n",
            " [0.35216189 0.37300102 0.70206482 0.63517533 0.23657368 0.70367648\n",
            "  0.60993009 0.23005215 0.22403424 0.83932531]]\n",
            "0.005753553500381536 0.9684662616272212\n"
          ]
        }
      ],
      "source": [
        "L=np.random.random((10,10))\n",
        "Lmin, Lmax = L.min(), L.max()\n",
        "print(L)\n",
        "print(Lmin, Lmax)"
      ]
    },
    {
      "cell_type": "markdown",
      "metadata": {
        "id": "xnBvqbQ_oH5T"
      },
      "source": [
        "#### 14. Create a random vector of size 30 and find the mean value (★☆☆) \n",
        "(**hint**: mean)"
      ]
    },
    {
      "cell_type": "code",
      "execution_count": 14,
      "metadata": {
        "id": "BgYZnOqRoH5T",
        "outputId": "1376e15c-f1dc-4b38-f13b-5a0551d28940",
        "colab": {
          "base_uri": "https://localhost:8080/"
        }
      },
      "outputs": [
        {
          "output_type": "stream",
          "name": "stdout",
          "text": [
            "[0.41790812 0.83819272 0.92760081 0.87887155 0.59033441 0.62405641\n",
            " 0.31055125 0.6613002  0.35775432 0.13155165 0.70040532 0.93190109\n",
            " 0.49938065 0.87340704 0.88051113 0.13396582 0.05579255 0.53048612\n",
            " 0.36164569 0.83803969 0.76688604 0.9516183  0.4150988  0.58879539\n",
            " 0.79456564 0.6221686  0.12638279 0.19152926 0.1066088  0.67931274]\n"
          ]
        },
        {
          "output_type": "execute_result",
          "data": {
            "text/plain": [
              "0.55955409653847"
            ]
          },
          "metadata": {},
          "execution_count": 14
        }
      ],
      "source": [
        "from numpy.core.fromnumeric import mean\n",
        "a=np.random.random(30)\n",
        "print(a)\n",
        "np.mean(a)"
      ]
    },
    {
      "cell_type": "markdown",
      "metadata": {
        "id": "05mClPRXoH5U"
      },
      "source": [
        "#### 15. Create a 2d array with 1 on the border and 0 inside (★☆☆) \n",
        "(**hint**: array\\[1:-1, 1:-1\\])"
      ]
    },
    {
      "cell_type": "code",
      "execution_count": 15,
      "metadata": {
        "id": "Bj6v3LysoH5U",
        "outputId": "6bc5d7a0-bfbb-4a00-a94e-1da00a1a30a7",
        "colab": {
          "base_uri": "https://localhost:8080/"
        }
      },
      "outputs": [
        {
          "output_type": "stream",
          "name": "stdout",
          "text": [
            "[[1 1 1 1 1]\n",
            " [1 0 0 0 1]\n",
            " [1 0 0 0 1]\n",
            " [1 0 0 0 1]\n",
            " [1 1 1 1 1]]\n"
          ]
        }
      ],
      "source": [
        "x=np.ones((5,5),dtype=int)\n",
        "x[1:-1,1:-1]=0\n",
        "print(x)"
      ]
    },
    {
      "cell_type": "markdown",
      "metadata": {
        "id": "JiMWBV_toH5U"
      },
      "source": [
        "#### 16. How to add a border (filled with 0's) around an existing array? (★☆☆) \n",
        "(**hint**: np.pad)"
      ]
    },
    {
      "cell_type": "code",
      "execution_count": 16,
      "metadata": {
        "id": "u_BhIcl4oH5U",
        "outputId": "5e77bbba-b00f-49cc-d212-ee0cc0b9f27c",
        "colab": {
          "base_uri": "https://localhost:8080/"
        }
      },
      "outputs": [
        {
          "output_type": "stream",
          "name": "stdout",
          "text": [
            "[[0.         0.         0.         0.        ]\n",
            " [0.         0.97043355 0.6366703  0.        ]\n",
            " [0.         0.84797494 0.38616475 0.        ]\n",
            " [0.         0.         0.         0.        ]]\n"
          ]
        }
      ],
      "source": [
        "y=np.random.random((2,2))\n",
        "y=np.pad(y, pad_width=1, mode='constant', constant_values=0)\n",
        "print(y)"
      ]
    },
    {
      "cell_type": "markdown",
      "metadata": {
        "id": "7J8OLYrqoH5U"
      },
      "source": [
        "#### 17. What is the result of the following expression? (★☆☆) \n",
        "(**hint**: NaN = not a number, inf = infinity)"
      ]
    },
    {
      "cell_type": "markdown",
      "metadata": {
        "id": "M7f8uBdCoH5U"
      },
      "source": [
        "```python\n",
        "0 * np.nan\n",
        "np.nan == np.nan\n",
        "np.inf > np.nan\n",
        "np.nan - np.nan\n",
        "0.3 == 3 * 0.1\n",
        "```"
      ]
    },
    {
      "cell_type": "code",
      "execution_count": 17,
      "metadata": {
        "id": "zrlmH0XroH5V",
        "outputId": "d8654377-8ab5-4563-9aaa-a7a58b2cbef6",
        "colab": {
          "base_uri": "https://localhost:8080/"
        }
      },
      "outputs": [
        {
          "output_type": "stream",
          "name": "stdout",
          "text": [
            "nan\n",
            "False\n",
            "False\n",
            "nan\n",
            "False\n"
          ]
        }
      ],
      "source": [
        "print(0 * np.nan)\n",
        "print(np.nan == np.nan)\n",
        "print(np.inf > np.nan)\n",
        "print(np.nan - np.nan)\n",
        "print(0.3 == 3 * 0.1)"
      ]
    },
    {
      "cell_type": "markdown",
      "metadata": {
        "id": "kBLI5Lc8oH5V"
      },
      "source": [
        "#### 18. Create a 5x5 matrix with values 1,2,3,4 just below the diagonal (★☆☆) \n",
        "(**hint**: np.diag)"
      ]
    },
    {
      "cell_type": "code",
      "execution_count": 18,
      "metadata": {
        "id": "YeYb2GGyoH5V",
        "outputId": "a9ea136b-473a-4d0f-8a15-2f401fbd20b6",
        "colab": {
          "base_uri": "https://localhost:8080/"
        }
      },
      "outputs": [
        {
          "output_type": "stream",
          "name": "stdout",
          "text": [
            "[[1 0 0 0]\n",
            " [0 2 0 0]\n",
            " [0 0 3 0]\n",
            " [0 0 0 4]]\n"
          ]
        }
      ],
      "source": [
        "\n",
        "n=np.diag((1,2,3,4))\n",
        "print(n)\n",
        "\n",
        "\n",
        "\n"
      ]
    },
    {
      "cell_type": "markdown",
      "metadata": {
        "id": "jejk7wqGoH5V"
      },
      "source": [
        "#### 19. Create a 8x8 matrix and fill it with a checkerboard pattern (★☆☆) \n",
        "(**hint**: array\\[::2\\])"
      ]
    },
    {
      "cell_type": "code",
      "execution_count": 19,
      "metadata": {
        "id": "3mVdcfCGoH5V",
        "outputId": "b35d3b34-b041-4454-e39d-337e4bfd98b2",
        "colab": {
          "base_uri": "https://localhost:8080/"
        }
      },
      "outputs": [
        {
          "output_type": "stream",
          "name": "stdout",
          "text": [
            "[[0 1 0 1 0 1 0 1]\n",
            " [1 0 1 0 1 0 1 0]\n",
            " [0 1 0 1 0 1 0 1]\n",
            " [1 0 1 0 1 0 1 0]\n",
            " [0 1 0 1 0 1 0 1]\n",
            " [1 0 1 0 1 0 1 0]\n",
            " [0 1 0 1 0 1 0 1]\n",
            " [1 0 1 0 1 0 1 0]]\n"
          ]
        }
      ],
      "source": [
        "x = np.zeros((8,8),dtype=int)\n",
        "x[1::2,::2] = 1\n",
        "x[::2,1::2] = 1\n",
        "print(x)"
      ]
    },
    {
      "cell_type": "markdown",
      "metadata": {
        "id": "tkXUbYEfoH5V"
      },
      "source": [
        "#### 20. Consider a (6,7,8) shape array, what is the index (x,y,z) of the 100th element? \n",
        "(**hint**: np.unravel_index)"
      ]
    },
    {
      "cell_type": "code",
      "execution_count": 19,
      "metadata": {
        "id": "UePtMNmioH5W"
      },
      "outputs": [],
      "source": [
        ""
      ]
    },
    {
      "cell_type": "markdown",
      "metadata": {
        "id": "ESdrtPh5oH5W"
      },
      "source": [
        "#### 21. Create a checkerboard 8x8 matrix using the tile function (★☆☆) \n",
        "(**hint**: np.tile)"
      ]
    },
    {
      "cell_type": "code",
      "execution_count": 20,
      "metadata": {
        "id": "cuocfGOAoH5W",
        "outputId": "f105fef3-dde3-4102-8826-e8a4d419479d",
        "colab": {
          "base_uri": "https://localhost:8080/"
        }
      },
      "outputs": [
        {
          "output_type": "stream",
          "name": "stdout",
          "text": [
            "[[0 1 0 1 0 1 0 1]\n",
            " [1 0 1 0 1 0 1 0]\n",
            " [0 1 0 1 0 1 0 1]\n",
            " [1 0 1 0 1 0 1 0]\n",
            " [0 1 0 1 0 1 0 1]\n",
            " [1 0 1 0 1 0 1 0]\n",
            " [0 1 0 1 0 1 0 1]\n",
            " [1 0 1 0 1 0 1 0]]\n"
          ]
        }
      ],
      "source": [
        "def tiling(n):\n",
        "    result = np.zeros((n, n),int)\n",
        "    result[::2, 1::2] = 1\n",
        "    result[1::2, ::2] = 1\n",
        "    return result\n",
        "\n",
        "\n",
        "print(tiling(8))\n",
        "\n",
        "\n"
      ]
    },
    {
      "cell_type": "markdown",
      "metadata": {
        "id": "MSb3tt7AoH5W"
      },
      "source": [
        "#### 22. Normalize a 5x5 random matrix (★☆☆) \n",
        "(**hint**: (x - min) / (max - min))"
      ]
    },
    {
      "cell_type": "code",
      "execution_count": 21,
      "metadata": {
        "id": "GHeloBmYoH5W",
        "outputId": "dbb27437-ee53-4de1-fded-a3f7b4c3b928",
        "colab": {
          "base_uri": "https://localhost:8080/"
        }
      },
      "outputs": [
        {
          "output_type": "stream",
          "name": "stdout",
          "text": [
            "[[0.41368332 0.59777053 0.6195716  0.81920039 0.28904448]\n",
            " [0.19192319 0.88652789 0.48301945 0.25934272 0.77777256]\n",
            " [0.85179226 0.1958284  0.56458097 0.9615518  0.76285825]\n",
            " [0.78236509 0.03058079 0.59359392 0.21235299 0.03475089]\n",
            " [0.93053493 0.40182978 0.4060226  0.9680561  0.81315856]]\n",
            "[[0.40865346 0.60501832 0.62827341 0.8412164  0.27570186]\n",
            " [0.17210309 0.91303429 0.48261395 0.24401915 0.79702555]\n",
            " [0.87598197 0.17626875 0.56961519 0.9930619  0.78111653]\n",
            " [0.80192438 0.         0.60056316 0.19389545 0.00444823]\n",
            " [0.95997637 0.39600935 0.40048181 1.         0.8347716 ]]\n"
          ]
        }
      ],
      "source": [
        "\n",
        "x= np.random.random((5,5))\n",
        "print(x)\n",
        "xmax, xmin = x.max(), x.min()\n",
        "x = (x - xmin)/(xmax - xmin)\n",
        "print(x)"
      ]
    },
    {
      "cell_type": "markdown",
      "metadata": {
        "id": "VsJG7JgFoH5W"
      },
      "source": [
        "#### 23. Create a custom dtype that describes a color as four unsigned bytes (RGBA) (★☆☆) \n",
        "(**hint**: np.dtype)"
      ]
    },
    {
      "cell_type": "code",
      "execution_count": 21,
      "metadata": {
        "collapsed": true,
        "id": "E2RYdEhGoH5X"
      },
      "outputs": [],
      "source": [
        ""
      ]
    },
    {
      "cell_type": "markdown",
      "metadata": {
        "id": "xZkBxR3ZoH5X"
      },
      "source": [
        "#### 24. Multiply a 5x3 matrix by a 3x2 matrix (real matrix product) (★☆☆) \n",
        "(**hint**: np.dot | @)"
      ]
    },
    {
      "cell_type": "code",
      "execution_count": 22,
      "metadata": {
        "id": "ERUhgDn_oH5X",
        "outputId": "9f1a00f2-5a83-42d6-8573-d43f25114543",
        "colab": {
          "base_uri": "https://localhost:8080/"
        }
      },
      "outputs": [
        {
          "output_type": "stream",
          "name": "stdout",
          "text": [
            "[[0.9307668  0.16907304 0.99609592]\n",
            " [0.45194946 0.3377643  0.20328808]\n",
            " [0.40535175 0.44713702 0.58723702]\n",
            " [0.38367797 0.26575021 0.86020401]\n",
            " [0.74429802 0.12263777 0.01447245]]\n",
            "[[0.53949346 0.63232503]\n",
            " [0.13070225 0.6415373 ]\n",
            " [0.59609729 0.25788734]]\n",
            "[[1.11801091 0.95389433]\n",
            " [0.40914981 0.55489277]\n",
            " [0.62717684 0.69461013]\n",
            " [0.75449119 0.63493358]\n",
            " [0.42619994 0.55304723]]\n"
          ]
        }
      ],
      "source": [
        "x = np.random.random((5,3))\n",
        "print(x)\n",
        "y = np.random.random((3,2))\n",
        "print(y)\n",
        "z = np.dot(x, y)\n",
        "print(z)"
      ]
    },
    {
      "cell_type": "markdown",
      "metadata": {
        "id": "Jr-mN2JFoH5X"
      },
      "source": [
        "#### 25. Given a 1D array, negate all elements which are between 3 and 8, in place. (★☆☆) \n",
        "(**hint**: >, <=)"
      ]
    },
    {
      "cell_type": "code",
      "execution_count": 22,
      "metadata": {
        "id": "JzYKezHVoH5X"
      },
      "outputs": [],
      "source": [
        ""
      ]
    },
    {
      "cell_type": "markdown",
      "metadata": {
        "id": "arAsW9vkoH5X"
      },
      "source": [
        "#### 26. What is the output of the following script? (★☆☆) \n",
        "(**hint**: np.sum)"
      ]
    },
    {
      "cell_type": "markdown",
      "metadata": {
        "id": "FgAPEC0YoH5X"
      },
      "source": [
        "```python\n",
        "# Author: Jake VanderPlas\n",
        "\n",
        "print(sum(range(5),-1))\n",
        "from numpy import *\n",
        "print(sum(range(5),-1))\n",
        "```"
      ]
    },
    {
      "cell_type": "code",
      "execution_count": 23,
      "metadata": {
        "id": "eh6Mu581oH5Y",
        "outputId": "551c33fa-481c-412b-ada0-427c05c7170a",
        "colab": {
          "base_uri": "https://localhost:8080/"
        }
      },
      "outputs": [
        {
          "output_type": "stream",
          "name": "stdout",
          "text": [
            "9\n",
            "10\n"
          ]
        }
      ],
      "source": [
        "print(sum(range(5),-1))\n",
        "from numpy import *\n",
        "print(sum(range(5),-1))"
      ]
    },
    {
      "cell_type": "markdown",
      "metadata": {
        "id": "5pIrRukCoH5Y"
      },
      "source": [
        "#### 27. Consider an integer vector Z, which of these expressions are legal? (★☆☆)"
      ]
    },
    {
      "cell_type": "markdown",
      "metadata": {
        "id": "kOB_e8H8oH5Y"
      },
      "source": [
        "```python\n",
        "Z**Z\n",
        "2 << Z >> 2\n",
        "Z <- Z\n",
        "1j*Z\n",
        "Z/1/1\n",
        "Z<Z>Z\n",
        "```"
      ]
    },
    {
      "cell_type": "code",
      "execution_count": 24,
      "metadata": {
        "id": "4Fv78DwKoH5Y",
        "outputId": "87673106-cc2a-4ac5-8ceb-8c782768e909",
        "colab": {
          "base_uri": "https://localhost:8080/"
        }
      },
      "outputs": [
        {
          "output_type": "execute_result",
          "data": {
            "text/plain": [
              "array([0, 1, 2, 4, 8])"
            ]
          },
          "metadata": {},
          "execution_count": 24
        }
      ],
      "source": [
        "Z=np.arange(0,5)\n",
        "2 << Z >>2"
      ]
    },
    {
      "cell_type": "markdown",
      "metadata": {
        "id": "X51DjB06oH5Y"
      },
      "source": [
        "#### 28. What are the result of the following expressions?"
      ]
    },
    {
      "cell_type": "markdown",
      "metadata": {
        "id": "0BBuG0YnoH5Y"
      },
      "source": [
        "```python\n",
        "np.array(0) / np.array(0)\n",
        "np.array(0) // np.array(0)\n",
        "np.array([np.nan]).astype(int).astype(float)\n",
        "```"
      ]
    },
    {
      "cell_type": "code",
      "execution_count": 25,
      "metadata": {
        "id": "2uBHb1shoH5Y",
        "outputId": "581afaf3-bdcb-4da3-b7c3-88fa3b907cd2",
        "colab": {
          "base_uri": "https://localhost:8080/"
        }
      },
      "outputs": [
        {
          "output_type": "execute_result",
          "data": {
            "text/plain": [
              "array([-9.22337204e+18])"
            ]
          },
          "metadata": {},
          "execution_count": 25
        }
      ],
      "source": [
        "np.array([np.nan]).astype(int).astype(float)"
      ]
    },
    {
      "cell_type": "code",
      "source": [
        "np.array(50) // np.array(2)\n"
      ],
      "metadata": {
        "id": "K9AxmCr23h-A",
        "outputId": "d8ff7138-8790-4fa4-c5c9-098290f53705",
        "colab": {
          "base_uri": "https://localhost:8080/"
        }
      },
      "execution_count": 26,
      "outputs": [
        {
          "output_type": "execute_result",
          "data": {
            "text/plain": [
              "25"
            ]
          },
          "metadata": {},
          "execution_count": 26
        }
      ]
    },
    {
      "cell_type": "markdown",
      "metadata": {
        "id": "F5GfFlAuoH5Y"
      },
      "source": [
        "#### 29. How to round away from zero a float array ? (★☆☆) \n",
        "(**hint**: np.uniform, np.copysign, np.ceil, np.abs)"
      ]
    },
    {
      "cell_type": "code",
      "execution_count": 26,
      "metadata": {
        "id": "FddXJBJYoH5Y"
      },
      "outputs": [],
      "source": [
        ""
      ]
    },
    {
      "cell_type": "markdown",
      "metadata": {
        "id": "J1fcgwGAoH5Z"
      },
      "source": [
        "#### 30. How to find common values between two arrays? (★☆☆) \n",
        "(**hint**: np.intersect1d)"
      ]
    },
    {
      "cell_type": "code",
      "execution_count": 26,
      "metadata": {
        "id": "C_QUzNpMoH5Z"
      },
      "outputs": [],
      "source": [
        ""
      ]
    },
    {
      "cell_type": "markdown",
      "metadata": {
        "id": "dz9nufceoH5Z"
      },
      "source": [
        "#### 31. How to ignore all numpy warnings (not recommended)? (★☆☆) \n",
        "(**hint**: np.seterr, np.errstate)"
      ]
    },
    {
      "cell_type": "code",
      "execution_count": 26,
      "metadata": {
        "id": "HwLbsgUmoH5Z"
      },
      "outputs": [],
      "source": [
        ""
      ]
    },
    {
      "cell_type": "markdown",
      "metadata": {
        "id": "lgpQXv1xoH5Z"
      },
      "source": [
        "#### 32. Is the following expressions true? (★☆☆) \n",
        "(**hint**: imaginary number)"
      ]
    },
    {
      "cell_type": "markdown",
      "metadata": {
        "id": "vNZF3TgToH5Z"
      },
      "source": [
        "```python\n",
        "np.sqrt(-1) == np.emath.sqrt(-1)\n",
        "```"
      ]
    },
    {
      "cell_type": "code",
      "execution_count": 27,
      "metadata": {
        "id": "lgPI49fnoH5Z",
        "outputId": "32afb402-e485-46bf-a1f0-5341eceded10",
        "colab": {
          "base_uri": "https://localhost:8080/"
        }
      },
      "outputs": [
        {
          "output_type": "stream",
          "name": "stderr",
          "text": [
            "/usr/local/lib/python3.7/dist-packages/ipykernel_launcher.py:1: RuntimeWarning: invalid value encountered in sqrt\n",
            "  \"\"\"Entry point for launching an IPython kernel.\n"
          ]
        },
        {
          "output_type": "execute_result",
          "data": {
            "text/plain": [
              "False"
            ]
          },
          "metadata": {},
          "execution_count": 27
        }
      ],
      "source": [
        "np.sqrt(-1) == np.emath.sqrt(-1)"
      ]
    },
    {
      "cell_type": "markdown",
      "metadata": {
        "id": "PGq0F2MMoH5Z"
      },
      "source": [
        "#### 33. How to get the dates of yesterday, today and tomorrow? (★☆☆) \n",
        "(**hint**: np.datetime64, np.timedelta64)"
      ]
    },
    {
      "cell_type": "code",
      "execution_count": 28,
      "metadata": {
        "collapsed": true,
        "id": "BYsONpb0oH5a",
        "outputId": "d9832bfe-ffeb-407b-cf15-82940aca4976",
        "colab": {
          "base_uri": "https://localhost:8080/"
        }
      },
      "outputs": [
        {
          "output_type": "stream",
          "name": "stdout",
          "text": [
            "Yestraday:  2022-05-28\n",
            "Today:  2022-05-29\n",
            "Tomorrow:  2022-05-30\n"
          ]
        }
      ],
      "source": [
        "yesterday = np.datetime64('today', 'D') - np.timedelta64(1, 'D')\n",
        "print(\"Yestraday: \",yesterday)\n",
        "today     = np.datetime64('today', 'D')\n",
        "print(\"Today: \",today)\n",
        "tomorrow  = np.datetime64('today', 'D') + np.timedelta64(1, 'D')\n",
        "print(\"Tomorrow: \",tomorrow)"
      ]
    },
    {
      "cell_type": "markdown",
      "metadata": {
        "id": "4YdRvJJ8oH5a"
      },
      "source": [
        "#### 34. How to get all the dates corresponding to the month of July 2016? (★★☆) \n",
        "(**hint**: np.arange(dtype=datetime64\\['D'\\]))"
      ]
    },
    {
      "cell_type": "code",
      "execution_count": 29,
      "metadata": {
        "id": "UvY-AX71oH5a",
        "outputId": "d2bf7246-2e4e-4212-91a5-3c69907848e3",
        "colab": {
          "base_uri": "https://localhost:8080/"
        }
      },
      "outputs": [
        {
          "output_type": "stream",
          "name": "stdout",
          "text": [
            "July, 2016\n",
            "['2016-07-01' '2016-07-02' '2016-07-03' '2016-07-04' '2016-07-05'\n",
            " '2016-07-06' '2016-07-07' '2016-07-08' '2016-07-09' '2016-07-10'\n",
            " '2016-07-11' '2016-07-12' '2016-07-13' '2016-07-14' '2016-07-15'\n",
            " '2016-07-16' '2016-07-17' '2016-07-18' '2016-07-19' '2016-07-20'\n",
            " '2016-07-21' '2016-07-22' '2016-07-23' '2016-07-24' '2016-07-25'\n",
            " '2016-07-26' '2016-07-27' '2016-07-28' '2016-07-29' '2016-07-30'\n",
            " '2016-07-31']\n"
          ]
        }
      ],
      "source": [
        "print(\"July, 2016\")\n",
        "print(np.arange('2016-07', '2016-08', dtype='datetime64[D]'))"
      ]
    },
    {
      "cell_type": "markdown",
      "metadata": {
        "id": "zdjWR-YxoH5a"
      },
      "source": [
        "#### 35. How to compute ((A+B)\\*(-A/2)) in place (without copy)? (★★☆) \n",
        "(**hint**: np.add(out=), np.negative(out=), np.multiply(out=), np.divide(out=))"
      ]
    },
    {
      "cell_type": "code",
      "execution_count": 30,
      "metadata": {
        "id": "gBnof-anoH5a",
        "outputId": "30d5dc32-a829-4085-f099-4ba740d7d3ee",
        "colab": {
          "base_uri": "https://localhost:8080/"
        }
      },
      "outputs": [
        {
          "output_type": "execute_result",
          "data": {
            "text/plain": [
              "array([ -2.5,  -7. , -13.5])"
            ]
          },
          "metadata": {},
          "execution_count": 30
        }
      ],
      "source": [
        "A = np.array([1,2,3])\n",
        "B = np.array([4,5,6])\n",
        "((A+B)*(-A/2))"
      ]
    },
    {
      "cell_type": "markdown",
      "metadata": {
        "id": "k0NwuFsloH5a"
      },
      "source": [
        "#### 36. Extract the integer part of a random array using 5 different methods (★★☆) \n",
        "(**hint**: %, np.floor, np.ceil, astype, np.trunc)"
      ]
    },
    {
      "cell_type": "code",
      "execution_count": 31,
      "metadata": {
        "id": "3J5E7_-woH5a",
        "outputId": "d29b4bf1-079e-4fb9-bf22-f1f71e36a045",
        "colab": {
          "base_uri": "https://localhost:8080/"
        }
      },
      "outputs": [
        {
          "output_type": "stream",
          "name": "stdout",
          "text": [
            "[18.91069749 10.18948903 14.41971641 15.53328898 18.64517427 12.617945\n",
            " 15.72800423 11.57487657 15.30552963 11.43337045 18.60552272 16.30215144\n",
            " 11.28523348 14.09334998 12.77292723 11.52790755 16.86093953 12.56701772\n",
            " 16.82073145 13.7803155  10.08959084 18.25435224 10.72332749 10.53624214\n",
            " 13.75088303]\n",
            "[18. 10. 14. 15. 18. 12. 15. 11. 15. 11. 18. 16. 11. 14. 12. 11. 16. 12.\n",
            " 16. 13. 10. 18. 10. 10. 13.]\n"
          ]
        }
      ],
      "source": [
        "a= np.random.uniform(10,20,25)\n",
        "print(a)\n",
        "print(a-a%1) \n"
      ]
    },
    {
      "cell_type": "code",
      "source": [
        "b=np.random.uniform(0,2,3)\n",
        "print(b)\n",
        "print(np.floor(b)) \n"
      ],
      "metadata": {
        "id": "pP449NxcyWGo",
        "outputId": "923880b8-2a32-4ce1-ec69-f4b174e48358",
        "colab": {
          "base_uri": "https://localhost:8080/"
        }
      },
      "execution_count": 32,
      "outputs": [
        {
          "output_type": "stream",
          "name": "stdout",
          "text": [
            "[0.80250012 0.35954021 0.49455957]\n",
            "[0. 0. 0.]\n"
          ]
        }
      ]
    },
    {
      "cell_type": "code",
      "source": [
        "c=np.random.uniform(6,2,5)\n",
        "print(c)\n",
        "print(np.ceil(c)-1) \n",
        "\n"
      ],
      "metadata": {
        "id": "54H8LY_Ny64g",
        "outputId": "f394da60-1ae4-4a6f-f295-fb07e7f69c3c",
        "colab": {
          "base_uri": "https://localhost:8080/"
        }
      },
      "execution_count": 33,
      "outputs": [
        {
          "output_type": "stream",
          "name": "stdout",
          "text": [
            "[2.81204831 3.51287922 4.85647025 3.20435415 3.83045688]\n",
            "[2. 3. 4. 3. 3.]\n"
          ]
        }
      ]
    },
    {
      "cell_type": "code",
      "source": [
        "d=np.random.uniform(7,10,9)\n",
        "print(d)\n",
        "print (d.astype(int))\n"
      ],
      "metadata": {
        "id": "EIhp8N3E-qgt",
        "outputId": "391a1575-b29d-49f0-d3ec-f6e680ddac23",
        "colab": {
          "base_uri": "https://localhost:8080/"
        }
      },
      "execution_count": 34,
      "outputs": [
        {
          "output_type": "stream",
          "name": "stdout",
          "text": [
            "[9.44556838 8.55656034 7.26935875 7.98725624 9.8547216  8.26053385\n",
            " 8.40845201 7.76097417 7.54649217]\n",
            "[9 8 7 7 9 8 8 7 7]\n"
          ]
        }
      ]
    },
    {
      "cell_type": "code",
      "source": [
        "x=np.random.uniform(5,10,18)\n",
        "print(x)\n",
        "print (np.trunc(x))"
      ],
      "metadata": {
        "id": "hwnYWVeA-vyc",
        "outputId": "7a26f058-d1f0-4462-82be-5e1c4cf241c4",
        "colab": {
          "base_uri": "https://localhost:8080/"
        }
      },
      "execution_count": 35,
      "outputs": [
        {
          "output_type": "stream",
          "name": "stdout",
          "text": [
            "[8.75673217 7.15587598 5.53706059 8.42519985 5.65702003 8.12151739\n",
            " 5.09377477 5.1708633  7.40604254 9.11950297 6.12782325 6.55722871\n",
            " 5.47635695 6.9493135  7.30800654 6.03288343 9.91672335 7.51265067]\n",
            "[8. 7. 5. 8. 5. 8. 5. 5. 7. 9. 6. 6. 5. 6. 7. 6. 9. 7.]\n"
          ]
        }
      ]
    },
    {
      "cell_type": "markdown",
      "metadata": {
        "id": "bt7OH4djoH5a"
      },
      "source": [
        "#### 37. Create a 5x5 matrix with row values ranging from 0 to 4 (★★☆) \n",
        "(**hint**: np.arange)"
      ]
    },
    {
      "cell_type": "code",
      "execution_count": 36,
      "metadata": {
        "id": "b-EiS1XNoH5a",
        "outputId": "16877aaa-355f-451b-9e50-c24109da9a74",
        "colab": {
          "base_uri": "https://localhost:8080/"
        }
      },
      "outputs": [
        {
          "output_type": "stream",
          "name": "stdout",
          "text": [
            "[[0 1 2 3 4]\n",
            " [0 1 2 3 4]\n",
            " [0 1 2 3 4]\n",
            " [0 1 2 3 4]\n",
            " [0 1 2 3 4]]\n"
          ]
        }
      ],
      "source": [
        "x = np.zeros((5,5),int)\n",
        "x += np.arange(5)\n",
        "print(x)"
      ]
    },
    {
      "cell_type": "markdown",
      "metadata": {
        "id": "pHeHoEKwoH5a"
      },
      "source": [
        "#### 38. Consider a generator function that generates 10 integers and use it to build an array (★☆☆) \n",
        "(**hint**: np.fromiter)"
      ]
    },
    {
      "cell_type": "code",
      "execution_count": 37,
      "metadata": {
        "id": "-PW1GIdfoH5b",
        "outputId": "285c7816-dddf-486e-efc9-971b3dd526d0",
        "colab": {
          "base_uri": "https://localhost:8080/"
        }
      },
      "outputs": [
        {
          "output_type": "stream",
          "name": "stdout",
          "text": [
            "New array:\n",
            "[0 1 2 3 4 5 6 7 8 9]\n"
          ]
        }
      ],
      "source": [
        "def generate():\n",
        "   for n in range(10):\n",
        "       yield n\n",
        "m = np.fromiter(generate(),dtype=int,count=-1)\n",
        "print(\"New array:\")\n",
        "print(m)"
      ]
    },
    {
      "cell_type": "markdown",
      "metadata": {
        "id": "D8QDTwn2oH5b"
      },
      "source": [
        "#### 39. Create a vector of size 10 with values ranging from 0 to 1, both excluded (★★☆) \n",
        "(**hint**: np.linspace)"
      ]
    },
    {
      "cell_type": "code",
      "execution_count": 38,
      "metadata": {
        "id": "QEWSynjKoH5b",
        "outputId": "5f840051-cbd1-4141-cf68-b9ac1c5d8963",
        "colab": {
          "base_uri": "https://localhost:8080/"
        }
      },
      "outputs": [
        {
          "output_type": "stream",
          "name": "stdout",
          "text": [
            "[0.09090909 0.18181818 0.27272727 0.36363636 0.45454545 0.54545455\n",
            " 0.63636364 0.72727273 0.81818182 0.90909091]\n"
          ]
        }
      ],
      "source": [
        "x = np.linspace(0,1,12,endpoint=True)[1:-1]\n",
        "print(x)"
      ]
    },
    {
      "cell_type": "markdown",
      "metadata": {
        "id": "ZLMeBVAooH5b"
      },
      "source": [
        "#### 40. Create a random vector of size 10 and sort it (★★☆) \n",
        "(**hint**: sort)"
      ]
    },
    {
      "cell_type": "code",
      "execution_count": 39,
      "metadata": {
        "id": "OwWfivi5oH5b",
        "outputId": "ea73ec28-f2c2-43b7-e1d2-29d3ba741755",
        "colab": {
          "base_uri": "https://localhost:8080/"
        }
      },
      "outputs": [
        {
          "output_type": "stream",
          "name": "stdout",
          "text": [
            "[0.0326887  0.06553102 0.26287479 0.28623583 0.36310894 0.46404546\n",
            " 0.51599745 0.70819429 0.90509341 0.98043644]\n"
          ]
        }
      ],
      "source": [
        "x=np.random.random(10)\n",
        "x.sort()\n",
        "print(x)\n"
      ]
    },
    {
      "cell_type": "markdown",
      "metadata": {
        "id": "EWZBWl9EoH5b"
      },
      "source": [
        "#### 41. How to sum a small array faster than np.sum? (★★☆) \n",
        "(**hint**: np.add.reduce)"
      ]
    },
    {
      "cell_type": "code",
      "source": [
        "a=(5,2,9)\n",
        "b=(2,5,6)\n",
        "c= np.add.reduce(a+b)\n",
        "print(c)"
      ],
      "metadata": {
        "id": "iy9ENr6zHOaE",
        "outputId": "5d063156-376a-4930-df50-dab1f595d8bb",
        "colab": {
          "base_uri": "https://localhost:8080/"
        }
      },
      "execution_count": 40,
      "outputs": [
        {
          "output_type": "stream",
          "name": "stdout",
          "text": [
            "29\n"
          ]
        }
      ]
    },
    {
      "cell_type": "markdown",
      "metadata": {
        "id": "o2TifpP4oH5b"
      },
      "source": [
        "#### 42. Consider two random array A and B, check if they are equal (★★☆) \n",
        "(**hint**: np.allclose, np.array\\_equal)"
      ]
    },
    {
      "cell_type": "code",
      "execution_count": 41,
      "metadata": {
        "id": "4hkaIN_uoH5c",
        "outputId": "4b6805ca-ab17-4391-bf3a-fb108e59a0c1",
        "colab": {
          "base_uri": "https://localhost:8080/"
        }
      },
      "outputs": [
        {
          "output_type": "stream",
          "name": "stdout",
          "text": [
            "A:\n",
            "[0.0326887  0.06553102 0.26287479 0.28623583 0.36310894 0.46404546\n",
            " 0.51599745 0.70819429 0.90509341 0.98043644]\n",
            "B:\n",
            "[[0.53949346 0.63232503]\n",
            " [0.13070225 0.6415373 ]\n",
            " [0.59609729 0.25788734]]\n",
            "Result\n",
            "False\n"
          ]
        }
      ],
      "source": [
        "A = np.random.randint(5,9,4)\n",
        "print(\"A:\")\n",
        "print(x)\n",
        "B = np.random.randint(5,9,4)\n",
        "print(\"B:\")\n",
        "print(y)\n",
        "print(\"Result\")\n",
        "array_equal = np.allclose(A,B)\n",
        "print(array_equal)"
      ]
    },
    {
      "cell_type": "markdown",
      "metadata": {
        "id": "vWwuLfzZoH5c"
      },
      "source": [
        "#### 43. Make an array immutable (read-only) (★★☆) \n",
        "(**hint**: flags.writeable)"
      ]
    },
    {
      "cell_type": "code",
      "execution_count": 43,
      "metadata": {
        "id": "BwtnXlk_oH5c",
        "outputId": "e7c31e98-0c4d-475b-e635-5ada573ed741",
        "colab": {
          "base_uri": "https://localhost:8080/",
          "height": 201
        }
      },
      "outputs": [
        {
          "output_type": "error",
          "ename": "ValueError",
          "evalue": "ignored",
          "traceback": [
            "\u001b[0;31m---------------------------------------------------------------------------\u001b[0m",
            "\u001b[0;31mValueError\u001b[0m                                Traceback (most recent call last)",
            "\u001b[0;32m<ipython-input-43-dcc5e7f145b5>\u001b[0m in \u001b[0;36m<module>\u001b[0;34m()\u001b[0m\n\u001b[1;32m      1\u001b[0m \u001b[0mZ\u001b[0m \u001b[0;34m=\u001b[0m \u001b[0mnp\u001b[0m\u001b[0;34m.\u001b[0m\u001b[0mzeros\u001b[0m\u001b[0;34m(\u001b[0m\u001b[0;36m10\u001b[0m\u001b[0;34m)\u001b[0m\u001b[0;34m\u001b[0m\u001b[0;34m\u001b[0m\u001b[0m\n\u001b[1;32m      2\u001b[0m \u001b[0mZ\u001b[0m\u001b[0;34m.\u001b[0m\u001b[0mflags\u001b[0m\u001b[0;34m.\u001b[0m\u001b[0mwriteable\u001b[0m \u001b[0;34m=\u001b[0m \u001b[0;32mFalse\u001b[0m\u001b[0;34m\u001b[0m\u001b[0;34m\u001b[0m\u001b[0m\n\u001b[0;32m----> 3\u001b[0;31m \u001b[0mZ\u001b[0m\u001b[0;34m[\u001b[0m\u001b[0;36m0\u001b[0m\u001b[0;34m]\u001b[0m \u001b[0;34m=\u001b[0m \u001b[0;36m1\u001b[0m\u001b[0;34m\u001b[0m\u001b[0;34m\u001b[0m\u001b[0m\n\u001b[0m",
            "\u001b[0;31mValueError\u001b[0m: assignment destination is read-only"
          ]
        }
      ],
      "source": [
        "Z = np.zeros(10)\n",
        "Z.flags.writeable = False\n",
        "Z[0] = 1"
      ]
    },
    {
      "cell_type": "markdown",
      "metadata": {
        "id": "HPeiad0LoH5c"
      },
      "source": [
        "#### 44. Consider a random 10x2 matrix representing cartesian coordinates, convert them to polar coordinates (★★☆) \n",
        "(**hint**: np.sqrt, np.arctan2)"
      ]
    },
    {
      "cell_type": "code",
      "execution_count": 44,
      "metadata": {
        "id": "HNK35_F6oH5c",
        "outputId": "1022f798-41bb-45d9-dc87-d683c07c4906",
        "colab": {
          "base_uri": "https://localhost:8080/"
        }
      },
      "outputs": [
        {
          "output_type": "stream",
          "name": "stdout",
          "text": [
            "[1.1128453  1.11186015 1.00177095 0.90717774 1.00103108 0.41865466\n",
            " 0.7956555  0.81847336 0.85891537 0.96749657]\n",
            "[0.57420437 0.80999431 1.30639167 0.69752857 1.16273126 1.16851124\n",
            " 1.12842467 0.92581555 1.07342611 0.12484359]\n"
          ]
        }
      ],
      "source": [
        "a= np.random.random((10,2))\n",
        "b,c = a[:,0], a[:,1]\n",
        "x = np.sqrt(b**2+c**2)\n",
        "y = np.arctan2(b,c)\n",
        "print(x)\n",
        "print(y)"
      ]
    },
    {
      "cell_type": "markdown",
      "metadata": {
        "id": "_ir2M1dyoH5c"
      },
      "source": [
        "#### 45. Create random vector of size 10 and replace the maximum value by 0 (★★☆) \n",
        "(**hint**: argmax)"
      ]
    },
    {
      "cell_type": "code",
      "execution_count": 45,
      "metadata": {
        "id": "7_xKw9IIoH5c",
        "outputId": "be70461e-27c5-4f32-c54d-f2affb2aee0e",
        "colab": {
          "base_uri": "https://localhost:8080/"
        }
      },
      "outputs": [
        {
          "output_type": "stream",
          "name": "stdout",
          "text": [
            "Original array:\n",
            "[0.05407477 0.59361552 0.41031129 0.85864316 0.95229914 0.12266657\n",
            " 0.44208554 0.74510039 0.49995176 0.22526367]\n",
            "Result:\n",
            "[0.05407477 0.59361552 0.41031129 0.85864316 0.         0.12266657\n",
            " 0.44208554 0.74510039 0.49995176 0.22526367]\n"
          ]
        }
      ],
      "source": [
        "x = np.random.random(10)\n",
        "print(\"Original array:\")\n",
        "print(x)\n",
        "x[x.argmax()] = 0\n",
        "print(\"Result:\")\n",
        "print(x)"
      ]
    },
    {
      "cell_type": "markdown",
      "metadata": {
        "id": "-8TeQ59OoH5c"
      },
      "source": [
        "#### 46. Create a structured array with `x` and `y` coordinates covering the \\[0,1\\]x\\[0,1\\] area (★★☆) \n",
        "(**hint**: np.meshgrid)"
      ]
    },
    {
      "cell_type": "code",
      "execution_count": 46,
      "metadata": {
        "id": "kJX0jYDLoH5c",
        "outputId": "d07479ec-7ebd-40e6-c7e5-030f1e7b620b",
        "colab": {
          "base_uri": "https://localhost:8080/"
        }
      },
      "outputs": [
        {
          "output_type": "stream",
          "name": "stdout",
          "text": [
            "[[0.36787944 0.44822088 0.51979489 0.57375342 0.60279818 0.60279818\n",
            "  0.57375342 0.51979489 0.44822088 0.36787944]\n",
            " [0.44822088 0.54610814 0.63331324 0.69905581 0.73444367 0.73444367\n",
            "  0.69905581 0.63331324 0.54610814 0.44822088]\n",
            " [0.51979489 0.63331324 0.73444367 0.81068432 0.85172308 0.85172308\n",
            "  0.81068432 0.73444367 0.63331324 0.51979489]\n",
            " [0.57375342 0.69905581 0.81068432 0.89483932 0.9401382  0.9401382\n",
            "  0.89483932 0.81068432 0.69905581 0.57375342]\n",
            " [0.60279818 0.73444367 0.85172308 0.9401382  0.98773022 0.98773022\n",
            "  0.9401382  0.85172308 0.73444367 0.60279818]\n",
            " [0.60279818 0.73444367 0.85172308 0.9401382  0.98773022 0.98773022\n",
            "  0.9401382  0.85172308 0.73444367 0.60279818]\n",
            " [0.57375342 0.69905581 0.81068432 0.89483932 0.9401382  0.9401382\n",
            "  0.89483932 0.81068432 0.69905581 0.57375342]\n",
            " [0.51979489 0.63331324 0.73444367 0.81068432 0.85172308 0.85172308\n",
            "  0.81068432 0.73444367 0.63331324 0.51979489]\n",
            " [0.44822088 0.54610814 0.63331324 0.69905581 0.73444367 0.73444367\n",
            "  0.69905581 0.63331324 0.54610814 0.44822088]\n",
            " [0.36787944 0.44822088 0.51979489 0.57375342 0.60279818 0.60279818\n",
            "  0.57375342 0.51979489 0.44822088 0.36787944]]\n"
          ]
        }
      ],
      "source": [
        "X, Y=np.meshgrid(np.linspace(-1,1,10),np.linspace(-1,1,10))\n",
        "D=np.sqrt(X*X+Y*Y)\n",
        "sigma, mu=1.0,0.0\n",
        "G=np.exp(-( (D-mu)**2/(2.0*sigma**2) ) )\n",
        "print(G)"
      ]
    },
    {
      "cell_type": "markdown",
      "metadata": {
        "id": "Nk40tU_FoH5d"
      },
      "source": [
        "####  47. Given two arrays, X and Y, construct the Cauchy matrix C (Cij =1/(xi - yj)) \n",
        "(**hint**: np.subtract.outer)"
      ]
    },
    {
      "cell_type": "code",
      "execution_count": 53,
      "metadata": {
        "id": "HYbvUQA0oH5d",
        "outputId": "e3e6e77a-4e72-410b-d24b-4f42574ee976",
        "colab": {
          "base_uri": "https://localhost:8080/"
        }
      },
      "outputs": [
        {
          "output_type": "stream",
          "name": "stdout",
          "text": [
            "3638.163637117973\n"
          ]
        }
      ],
      "source": [
        "X = np.arange(8)\n",
        "Y = X + 0.5\n",
        "C = 1.0 / np.subtract.outer(X, Y)\n",
        "print(np.linalg.det(C))"
      ]
    },
    {
      "cell_type": "markdown",
      "metadata": {
        "id": "P5zIDo2MoH5d"
      },
      "source": [
        "#### 48. Print the minimum and maximum representable value for each numpy scalar type (★★☆) \n",
        "(**hint**: np.iinfo, np.finfo, eps)"
      ]
    },
    {
      "cell_type": "code",
      "execution_count": 54,
      "metadata": {
        "id": "Xr2BAwBDoH5d",
        "outputId": "4711e984-0792-455b-e756-7d9287e91445",
        "colab": {
          "base_uri": "https://localhost:8080/"
        }
      },
      "outputs": [
        {
          "output_type": "stream",
          "name": "stdout",
          "text": [
            "-128\n",
            "127\n",
            "-2147483648\n",
            "2147483647\n",
            "-9223372036854775808\n",
            "9223372036854775807\n",
            "-3.4028235e+38\n",
            "3.4028235e+38\n",
            "1.1920929e-07\n",
            "-1.7976931348623157e+308\n",
            "1.7976931348623157e+308\n",
            "2.220446049250313e-16\n"
          ]
        }
      ],
      "source": [
        "for dtype in [np.int8, np.int32, np.int64]:\n",
        "   print(np.iinfo(dtype).min)\n",
        "   print(np.iinfo(dtype).max)\n",
        "for dtype in [np.float32, np.float64]:\n",
        "   print(np.finfo(dtype).min)\n",
        "   print(np.finfo(dtype).max)\n",
        "   print(np.finfo(dtype).eps)"
      ]
    },
    {
      "cell_type": "markdown",
      "metadata": {
        "id": "6ArtiqwNoH5d"
      },
      "source": [
        "#### 49. How to print all the values of an array? (★★☆) \n",
        "(**hint**: np.set\\_printoptions)"
      ]
    },
    {
      "cell_type": "code",
      "execution_count": 55,
      "metadata": {
        "id": "gV1oBOc-oH5d",
        "outputId": "166ddf7e-edac-420d-984d-f8240e048be9",
        "colab": {
          "base_uri": "https://localhost:8080/"
        }
      },
      "outputs": [
        {
          "output_type": "stream",
          "name": "stdout",
          "text": [
            "[[0 0 0 0 0]\n",
            " [0 0 0 0 0]\n",
            " [0 0 0 0 0]\n",
            " [0 0 0 0 0]\n",
            " [0 0 0 0 0]]\n"
          ]
        }
      ],
      "source": [
        "np.set_printoptions\n",
        "a = np.zeros((5,5),int)\n",
        "print(a)"
      ]
    },
    {
      "cell_type": "markdown",
      "metadata": {
        "id": "lLiAZNz-oH5d"
      },
      "source": [
        "#### 50. How to find the closest value (to a given scalar) in a vector? (★★☆) \n",
        "(**hint**: argmin)"
      ]
    },
    {
      "cell_type": "code",
      "execution_count": 56,
      "metadata": {
        "id": "Vo4hPCHloH5d",
        "outputId": "965be9b8-50cd-48dd-f14d-45a1b8fa6220",
        "colab": {
          "base_uri": "https://localhost:8080/"
        }
      },
      "outputs": [
        {
          "output_type": "stream",
          "name": "stdout",
          "text": [
            "30\n"
          ]
        }
      ],
      "source": [
        "Z = np.arange(50)\n",
        "v = np.random.uniform(0,50)\n",
        "index = (np.abs(Z-v)).argmin()\n",
        "print(Z[index])"
      ]
    },
    {
      "cell_type": "markdown",
      "metadata": {
        "id": "-Ezxa5WOoH5d"
      },
      "source": [
        "#### 51. Create a structured array representing a position (x,y) and a color (r,g,b) (★★☆) \n",
        "(**hint**: dtype)"
      ]
    },
    {
      "cell_type": "code",
      "execution_count": 57,
      "metadata": {
        "id": "fCKany9hoH5e",
        "outputId": "f65bacf0-e7bf-45bc-8f56-1e511330e599",
        "colab": {
          "base_uri": "https://localhost:8080/"
        }
      },
      "outputs": [
        {
          "output_type": "stream",
          "name": "stdout",
          "text": [
            "[((0., 0.), (0., 0., 0.)) ((0., 0.), (0., 0., 0.))\n",
            " ((0., 0.), (0., 0., 0.)) ((0., 0.), (0., 0., 0.))\n",
            " ((0., 0.), (0., 0., 0.))]\n"
          ]
        },
        {
          "output_type": "stream",
          "name": "stderr",
          "text": [
            "/usr/local/lib/python3.7/dist-packages/ipykernel_launcher.py:5: FutureWarning: Passing (type, 1) or '1type' as a synonym of type is deprecated; in a future version of numpy, it will be understood as (type, (1,)) / '(1,)type'.\n",
            "  \"\"\"\n"
          ]
        }
      ],
      "source": [
        "a = np.zeros(5, [ ('position', [ ('x', float, 1),\n",
        "                                   ('y', float, 1)]),\n",
        "                    ('color',    [ ('r', float, 1),\n",
        "                                   ('g', float, 1),\n",
        "                                   ('b', float, 1)])])\n",
        "print(a)"
      ]
    },
    {
      "cell_type": "markdown",
      "metadata": {
        "id": "RJP_ApXeoH5e"
      },
      "source": [
        "#### 52. Consider a random vector with shape (100,2) representing coordinates, find point by point distances (★★☆) \n",
        "(**hint**: np.atleast\\_2d, T, np.sqrt)"
      ]
    },
    {
      "cell_type": "code",
      "execution_count": 58,
      "metadata": {
        "id": "w6kKp0EUoH5e",
        "outputId": "149e0266-d4aa-472a-8ce7-001fbea636ce",
        "colab": {
          "base_uri": "https://localhost:8080/"
        }
      },
      "outputs": [
        {
          "output_type": "stream",
          "name": "stdout",
          "text": [
            "[[0.         0.3149597  0.75359737 ... 0.4851388  0.24133647 0.41534193]\n",
            " [0.3149597  0.         0.68257232 ... 0.18068228 0.09352687 0.30899694]\n",
            " [0.75359737 0.68257232 0.         ... 0.62813108 0.73749649 0.99033778]\n",
            " ...\n",
            " [0.4851388  0.18068228 0.62813108 ... 0.         0.27362267 0.43105692]\n",
            " [0.24133647 0.09352687 0.73749649 ... 0.27362267 0.         0.26046705]\n",
            " [0.41534193 0.30899694 0.99033778 ... 0.43105692 0.26046705 0.        ]]\n",
            "[[0.         0.11726442 0.76693015 ... 0.38251074 0.65559037 0.92234848]\n",
            " [0.11726442 0.         0.7958841  ... 0.26739171 0.6030096  0.93848576]\n",
            " [0.76693015 0.7958841  0.         ... 0.96324484 0.51358664 0.17698348]\n",
            " ...\n",
            " [0.38251074 0.26739171 0.96324484 ... 0.         0.62199391 1.07768715]\n",
            " [0.65559037 0.6030096  0.51358664 ... 0.62199391 0.         0.54557472]\n",
            " [0.92234848 0.93848576 0.17698348 ... 1.07768715 0.54557472 0.        ]]\n"
          ]
        }
      ],
      "source": [
        "Z = np.random.random((100,2))\n",
        "X,Y = np.atleast_2d(Z[:,0]), np.atleast_2d(Z[:,1])\n",
        "D = np.sqrt( (X-X.T)**2 + (Y-Y.T)**2)\n",
        "print(D)\n",
        "\n",
        "import scipy\n",
        "import scipy.spatial\n",
        "\n",
        "Z = np.random.random((100,2))\n",
        "D = scipy.spatial.distance.cdist(Z,Z)\n",
        "print(D)"
      ]
    },
    {
      "cell_type": "markdown",
      "metadata": {
        "id": "KFPUcXGjoH5e"
      },
      "source": [
        "#### 53. How to convert a float (32 bits) array into an integer (32 bits) in place? \n",
        "(**hint**: astype(copy=False))"
      ]
    },
    {
      "cell_type": "code",
      "execution_count": 59,
      "metadata": {
        "id": "GNIpfTiJoH5e",
        "outputId": "273808e6-50e5-4a51-d952-d6c3121c9fec",
        "colab": {
          "base_uri": "https://localhost:8080/"
        }
      },
      "outputs": [
        {
          "output_type": "stream",
          "name": "stdout",
          "text": [
            "[0. 1. 2. 3. 4. 5. 6. 7. 8. 9.]\n",
            "[0 1 2 3 4 5 6 7 8 9]\n"
          ]
        }
      ],
      "source": [
        "Z = np.arange(10, dtype=np.float32)\n",
        "print(Z)\n",
        "Z = Z.astype(np.int32, copy=False)\n",
        "print(Z)"
      ]
    },
    {
      "cell_type": "markdown",
      "metadata": {
        "id": "Z2AHkdUEoH5e"
      },
      "source": [
        "#### 54. How to read the following file? (★★☆) \n",
        "(**hint**: np.genfromtxt)"
      ]
    },
    {
      "cell_type": "markdown",
      "metadata": {
        "id": "R0p_bcN4oH5e"
      },
      "source": [
        "```\n",
        "1, 2, 3, 4, 5\n",
        "6,  ,  , 7, 8\n",
        " ,  , 9,10,11\n",
        "```"
      ]
    },
    {
      "cell_type": "code",
      "execution_count": 62,
      "metadata": {
        "id": "g4aIWZ6eoH5e",
        "outputId": "c7c4f24f-b99d-4315-96ea-9fce806a2c77",
        "colab": {
          "base_uri": "https://localhost:8080/"
        }
      },
      "outputs": [
        {
          "output_type": "stream",
          "name": "stdout",
          "text": [
            "[[ 1  2  3  4  5]\n",
            " [ 6 -1 -1  7  8]\n",
            " [-1 -1  9 10 11]]\n"
          ]
        },
        {
          "output_type": "stream",
          "name": "stderr",
          "text": [
            "/usr/local/lib/python3.7/dist-packages/ipykernel_launcher.py:8: DeprecationWarning: `np.int` is a deprecated alias for the builtin `int`. To silence this warning, use `int` by itself. Doing this will not modify any behavior and is safe. When replacing `np.int`, you may wish to use e.g. `np.int64` or `np.int32` to specify the precision. If you wish to review your current use, check the release note link for additional information.\n",
            "Deprecated in NumPy 1.20; for more details and guidance: https://numpy.org/devdocs/release/1.20.0-notes.html#deprecations\n",
            "  \n"
          ]
        }
      ],
      "source": [
        "from io import StringIO\n",
        "\n",
        "\n",
        "s = StringIO('''1, 2, 3, 4, 5\n",
        "                6,  ,  , 7, 8\n",
        "                 ,  , 9,10,11\n",
        "''')\n",
        "Z = np.genfromtxt(s, delimiter=\",\", dtype=np.int)\n",
        "print(Z)\n"
      ]
    },
    {
      "cell_type": "markdown",
      "metadata": {
        "id": "lptIxZSkoH5f"
      },
      "source": [
        "#### 55. What is the equivalent of enumerate for numpy arrays? (★★☆) \n",
        "(**hint**: np.ndenumerate, np.ndindex)"
      ]
    },
    {
      "cell_type": "code",
      "execution_count": 63,
      "metadata": {
        "id": "HH17_rG5oH5f",
        "outputId": "b9dcb2b9-13ae-4885-d0a6-037f4843e579",
        "colab": {
          "base_uri": "https://localhost:8080/"
        }
      },
      "outputs": [
        {
          "output_type": "stream",
          "name": "stdout",
          "text": [
            "(0, 0) 0\n",
            "(0, 1) 1\n",
            "(0, 2) 2\n",
            "(1, 0) 3\n",
            "(1, 1) 4\n",
            "(1, 2) 5\n",
            "(2, 0) 6\n",
            "(2, 1) 7\n",
            "(2, 2) 8\n",
            "(0, 0) 0\n",
            "(0, 1) 1\n",
            "(0, 2) 2\n",
            "(1, 0) 3\n",
            "(1, 1) 4\n",
            "(1, 2) 5\n",
            "(2, 0) 6\n",
            "(2, 1) 7\n",
            "(2, 2) 8\n"
          ]
        }
      ],
      "source": [
        "Z = np.arange(9).reshape(3,3)\n",
        "for index, value in np.ndenumerate(Z):\n",
        "    print(index, value)\n",
        "for index in np.ndindex(Z.shape):\n",
        "    print(index, Z[index])"
      ]
    },
    {
      "cell_type": "markdown",
      "metadata": {
        "id": "WmTfLcU8oH5f"
      },
      "source": [
        "#### 56. Generate a generic 2D Gaussian-like array (★★☆) \n",
        "(**hint**: np.meshgrid, np.exp)"
      ]
    },
    {
      "cell_type": "code",
      "execution_count": 64,
      "metadata": {
        "id": "3FLY0ob0oH5f",
        "outputId": "fba34517-bd9c-4b75-e6a4-717876ac7191",
        "colab": {
          "base_uri": "https://localhost:8080/"
        }
      },
      "outputs": [
        {
          "output_type": "stream",
          "name": "stdout",
          "text": [
            "[[0.36787944 0.44822088 0.51979489 0.57375342 0.60279818 0.60279818\n",
            "  0.57375342 0.51979489 0.44822088 0.36787944]\n",
            " [0.44822088 0.54610814 0.63331324 0.69905581 0.73444367 0.73444367\n",
            "  0.69905581 0.63331324 0.54610814 0.44822088]\n",
            " [0.51979489 0.63331324 0.73444367 0.81068432 0.85172308 0.85172308\n",
            "  0.81068432 0.73444367 0.63331324 0.51979489]\n",
            " [0.57375342 0.69905581 0.81068432 0.89483932 0.9401382  0.9401382\n",
            "  0.89483932 0.81068432 0.69905581 0.57375342]\n",
            " [0.60279818 0.73444367 0.85172308 0.9401382  0.98773022 0.98773022\n",
            "  0.9401382  0.85172308 0.73444367 0.60279818]\n",
            " [0.60279818 0.73444367 0.85172308 0.9401382  0.98773022 0.98773022\n",
            "  0.9401382  0.85172308 0.73444367 0.60279818]\n",
            " [0.57375342 0.69905581 0.81068432 0.89483932 0.9401382  0.9401382\n",
            "  0.89483932 0.81068432 0.69905581 0.57375342]\n",
            " [0.51979489 0.63331324 0.73444367 0.81068432 0.85172308 0.85172308\n",
            "  0.81068432 0.73444367 0.63331324 0.51979489]\n",
            " [0.44822088 0.54610814 0.63331324 0.69905581 0.73444367 0.73444367\n",
            "  0.69905581 0.63331324 0.54610814 0.44822088]\n",
            " [0.36787944 0.44822088 0.51979489 0.57375342 0.60279818 0.60279818\n",
            "  0.57375342 0.51979489 0.44822088 0.36787944]]\n"
          ]
        }
      ],
      "source": [
        "X, Y = np.meshgrid(np.linspace(-1,1,10), np.linspace(-1,1,10))\n",
        "D = np.sqrt(X*X+Y*Y)\n",
        "sigma, mu = 1.0, 0.0\n",
        "Z = np.exp(-( (D-mu)**2 / ( 2.0 * sigma**2 ) ) )\n",
        "print(Z)"
      ]
    },
    {
      "cell_type": "markdown",
      "metadata": {
        "id": "6i8SKulzoH5f"
      },
      "source": [
        "#### 57. How to randomly place p elements in a 2D array? (★★☆) \n",
        "(**hint**: np.put, np.random.choice)"
      ]
    },
    {
      "cell_type": "code",
      "execution_count": 65,
      "metadata": {
        "id": "BZNSvkYxoH5f",
        "outputId": "ad8c0a30-b5ed-4769-ad31-20b33f9f6b74",
        "colab": {
          "base_uri": "https://localhost:8080/"
        }
      },
      "outputs": [
        {
          "output_type": "stream",
          "name": "stdout",
          "text": [
            "[[0 0 0 0 0 0 0 0 0 0]\n",
            " [0 0 0 0 0 0 0 0 0 0]\n",
            " [0 0 0 0 0 0 0 0 0 0]\n",
            " [0 0 0 0 0 0 0 0 0 0]\n",
            " [0 0 1 0 0 1 0 0 0 1]\n",
            " [0 0 0 0 0 0 0 0 0 0]\n",
            " [0 0 0 0 0 0 0 0 0 0]\n",
            " [0 0 0 0 0 0 0 0 0 0]\n",
            " [0 0 0 0 0 0 0 0 0 0]\n",
            " [0 0 0 0 0 0 0 0 0 0]]\n"
          ]
        }
      ],
      "source": [
        "n = 10\n",
        "p = 3\n",
        "Z = np.zeros((n,n),int)\n",
        "np.put(Z, np.random.choice(range(n*n), p, replace=False),1)\n",
        "print(Z)"
      ]
    },
    {
      "cell_type": "markdown",
      "metadata": {
        "id": "4hAKDDCtoH5f"
      },
      "source": [
        "#### 58. Subtract the mean of each row of a matrix (★★☆) \n",
        "(**hint**: mean(axis=,keepdims=))"
      ]
    },
    {
      "cell_type": "code",
      "execution_count": 66,
      "metadata": {
        "id": "y4oQQ_jKoH5f",
        "outputId": "43ff48b6-10f5-417e-a331-f726e75e6cf9",
        "colab": {
          "base_uri": "https://localhost:8080/"
        }
      },
      "outputs": [
        {
          "output_type": "stream",
          "name": "stdout",
          "text": [
            "[[-0.44944255  0.18675608  0.00760464  0.097512   -0.3384279   0.31638463\n",
            "  -0.45672807 -0.01583082  0.40938141  0.24279058]\n",
            " [-0.30809329 -0.36308911  0.26035372 -0.02139638  0.02869353 -0.29485911\n",
            "  -0.06634645  0.17632496  0.52921099  0.05920112]\n",
            " [-0.1617618  -0.2874222  -0.40004534  0.20868213  0.34364806 -0.37082381\n",
            "  -0.27828289  0.1707596   0.26870176  0.5065445 ]\n",
            " [-0.19617222  0.3997933  -0.07567131  0.06394086  0.0683525   0.1347929\n",
            "  -0.03952642 -0.50222002 -0.21885107  0.36556149]\n",
            " [ 0.16685694 -0.34091321 -0.04585614  0.19146784  0.19235511  0.22701166\n",
            "   0.24292094 -0.05251092 -0.32196482 -0.25936739]]\n"
          ]
        }
      ],
      "source": [
        "X = np.random.rand(5, 10)\n",
        "Y = X - X.mean(axis=1, keepdims=True)\n",
        "Y = X - X.mean(axis=1).reshape(-1, 1)\n",
        "print(Y)"
      ]
    },
    {
      "cell_type": "markdown",
      "metadata": {
        "id": "TXgGWfo4oH5f"
      },
      "source": [
        "#### 59. How to sort an array by the nth column? (★★☆) \n",
        "(**hint**: argsort)"
      ]
    },
    {
      "cell_type": "code",
      "execution_count": 67,
      "metadata": {
        "id": "D51QF3jMoH5f",
        "outputId": "13b15d32-fb50-43a6-b4a1-86735b7c5ab8",
        "colab": {
          "base_uri": "https://localhost:8080/"
        }
      },
      "outputs": [
        {
          "output_type": "stream",
          "name": "stdout",
          "text": [
            "[[1 9 0]\n",
            " [9 5 0]\n",
            " [7 9 6]]\n",
            "[[9 5 0]\n",
            " [1 9 0]\n",
            " [7 9 6]]\n"
          ]
        }
      ],
      "source": [
        "Z = np.random.randint(0,10,(3,3))\n",
        "print(Z)\n",
        "print(Z[Z[:,1].argsort()])"
      ]
    },
    {
      "cell_type": "markdown",
      "metadata": {
        "id": "eP7FH8-NoH5g"
      },
      "source": [
        "#### 60. How to tell if a given 2D array has null columns? (★★☆) \n",
        "(**hint**: any, ~)"
      ]
    },
    {
      "cell_type": "code",
      "execution_count": 68,
      "metadata": {
        "id": "T5WSOZCooH5g",
        "outputId": "383a2f17-a8dc-4004-f700-20f710969589",
        "colab": {
          "base_uri": "https://localhost:8080/"
        }
      },
      "outputs": [
        {
          "output_type": "stream",
          "name": "stdout",
          "text": [
            "False\n"
          ]
        }
      ],
      "source": [
        "Z = np.random.randint(0,3,(3,10))\n",
        "print((~Z.any(axis=0)).any())"
      ]
    },
    {
      "cell_type": "markdown",
      "metadata": {
        "id": "7jiPcGUzoH5g"
      },
      "source": [
        "#### 61. Find the nearest value from a given value in an array (★★☆) \n",
        "(**hint**: np.abs, argmin, flat)"
      ]
    },
    {
      "cell_type": "code",
      "execution_count": 69,
      "metadata": {
        "id": "bIrp-8YzoH5g",
        "outputId": "7710f252-e810-4d17-e31f-7d4a6c4e9538",
        "colab": {
          "base_uri": "https://localhost:8080/"
        }
      },
      "outputs": [
        {
          "output_type": "stream",
          "name": "stdout",
          "text": [
            "0.4573077880959553\n"
          ]
        }
      ],
      "source": [
        "Z = np.random.uniform(0,1,10)\n",
        "z = 0.5\n",
        "m = Z.flat[np.abs(Z - z).argmin()]\n",
        "print(m)"
      ]
    },
    {
      "cell_type": "markdown",
      "metadata": {
        "id": "mAW3g310oH5g"
      },
      "source": [
        "#### 62. Considering two arrays with shape (1,3) and (3,1), how to compute their sum using an iterator? (★★☆) \n",
        "(**hint**: np.nditer)"
      ]
    },
    {
      "cell_type": "code",
      "execution_count": 70,
      "metadata": {
        "id": "owMhAMTWoH5g",
        "outputId": "2b2b7eff-f91d-48ed-8724-6bbed3565c73",
        "colab": {
          "base_uri": "https://localhost:8080/"
        }
      },
      "outputs": [
        {
          "output_type": "stream",
          "name": "stdout",
          "text": [
            "[[0 1 2]\n",
            " [1 2 3]\n",
            " [2 3 4]]\n"
          ]
        }
      ],
      "source": [
        "a = np.arange(3).reshape(3,1)\n",
        "b = np.arange(3).reshape(1,3)\n",
        "it = np.nditer([a,b,None])\n",
        "for x,y,z in it: z[...] = x + y\n",
        "print(it.operands[2])"
      ]
    },
    {
      "cell_type": "markdown",
      "metadata": {
        "id": "UcK0r6CFoH5g"
      },
      "source": [
        "#### 63. Create an array class that has a name attribute (★★☆) \n",
        "(**hint**: class method)"
      ]
    },
    {
      "cell_type": "code",
      "execution_count": 71,
      "metadata": {
        "id": "ECsG74wWoH5g",
        "outputId": "9a2f9566-a86a-4772-8485-32e58db9ca69",
        "colab": {
          "base_uri": "https://localhost:8080/"
        }
      },
      "outputs": [
        {
          "output_type": "stream",
          "name": "stdout",
          "text": [
            "range_10\n"
          ]
        }
      ],
      "source": [
        "class NamedArray(np.ndarray):\n",
        "    def __new__(cls, array, name=\"no name\"):\n",
        "        obj = np.asarray(array).view(cls)\n",
        "        obj.name = name\n",
        "        return obj\n",
        "    def __array_finalize__(self, obj):\n",
        "        if obj is None: return\n",
        "        self.info = getattr(obj, 'name', \"no name\")\n",
        "\n",
        "Z = NamedArray(np.arange(10), \"range_10\")\n",
        "print (Z.name)"
      ]
    },
    {
      "cell_type": "markdown",
      "metadata": {
        "id": "kFWqK7smoH5g"
      },
      "source": [
        "#### 64. Consider a given vector, how to add 1 to each element indexed by a second vector (be careful with repeated indices)? (★★★) \n",
        "(**hint**: np.bincount | np.add.at)"
      ]
    },
    {
      "cell_type": "code",
      "execution_count": 72,
      "metadata": {
        "id": "umowabjOoH5g",
        "outputId": "bff8954c-2818-4fa5-efac-6f48e9018423",
        "colab": {
          "base_uri": "https://localhost:8080/"
        }
      },
      "outputs": [
        {
          "output_type": "stream",
          "name": "stdout",
          "text": [
            "[3. 3. 3. 3. 2. 5. 5. 2. 1. 3.]\n"
          ]
        }
      ],
      "source": [
        "Z = np.ones(10)\n",
        "I = np.random.randint(0,len(Z),20)\n",
        "Z += np.bincount(I, minlength=len(Z))\n",
        "print(Z)"
      ]
    },
    {
      "cell_type": "markdown",
      "metadata": {
        "id": "lOZM7LlQoH5h"
      },
      "source": [
        "#### 65. How to accumulate elements of a vector (X) to an array (F) based on an index list (I)? (★★★) \n",
        "(**hint**: np.bincount)"
      ]
    },
    {
      "cell_type": "code",
      "execution_count": 73,
      "metadata": {
        "id": "teJEGPE3oH5h",
        "outputId": "a58ec958-a9c7-408a-881c-6d738354e946",
        "colab": {
          "base_uri": "https://localhost:8080/"
        }
      },
      "outputs": [
        {
          "output_type": "stream",
          "name": "stdout",
          "text": [
            "[0. 7. 0. 6. 5. 0. 0. 0. 0. 3.]\n"
          ]
        }
      ],
      "source": [
        "X = [1,2,3,4,5,6]\n",
        "Y = [1,3,9,3,4,1]\n",
        "Z = np.bincount(Y,X)\n",
        "print(Z)"
      ]
    },
    {
      "cell_type": "markdown",
      "metadata": {
        "id": "Zetwa2kBoH5h"
      },
      "source": [
        "#### 66. Considering a (w,h,3) image of (dtype=ubyte), compute the number of unique colors (★★★) \n",
        "(**hint**: np.unique)"
      ]
    },
    {
      "cell_type": "code",
      "execution_count": 74,
      "metadata": {
        "id": "tfxkza0LoH5h",
        "outputId": "420a07f9-de6f-4d75-8fd9-7508c91fde08",
        "colab": {
          "base_uri": "https://localhost:8080/"
        }
      },
      "outputs": [
        {
          "output_type": "stream",
          "name": "stdout",
          "text": [
            "[0 1]\n"
          ]
        }
      ],
      "source": [
        "w,h = 16,16\n",
        "I = np.random.randint(0,2,(h,w,3)).astype(np.ubyte)\n",
        "F = I[...,0]*256*256 + I[...,1]*256 +I[...,2]\n",
        "n = len(np.unique(F))\n",
        "print(np.unique(I))"
      ]
    },
    {
      "cell_type": "markdown",
      "metadata": {
        "id": "w1cuoedtoH5h"
      },
      "source": [
        "#### 67. Considering a four dimensions array, how to get sum over the last two axis at once? (★★★) \n",
        "(**hint**: sum(axis=(-2,-1)))"
      ]
    },
    {
      "cell_type": "code",
      "execution_count": 75,
      "metadata": {
        "id": "5QAZXz3NoH5h",
        "outputId": "1a6af9ca-a910-4962-d4a6-904454981d81",
        "colab": {
          "base_uri": "https://localhost:8080/"
        }
      },
      "outputs": [
        {
          "output_type": "stream",
          "name": "stdout",
          "text": [
            "[[48 39 59 53]\n",
            " [61 71 48 57]\n",
            " [49 43 39 67]]\n",
            "[[48 39 59 53]\n",
            " [61 71 48 57]\n",
            " [49 43 39 67]]\n"
          ]
        }
      ],
      "source": [
        "A = np.random.randint(0,10,(3,4,3,4))\n",
        "sum = A.sum(axis=(-2,-1))\n",
        "print(sum)\n",
        "sum = A.reshape(A.shape[:-2] + (-1,)).sum(axis=-1)\n",
        "print(sum)"
      ]
    },
    {
      "cell_type": "markdown",
      "metadata": {
        "id": "prPoQ4n4oH5h"
      },
      "source": [
        "#### 68. Considering a one-dimensional vector D, how to compute means of subsets of D using a vector S of same size describing subset  indices? (★★★) \n",
        "(**hint**: np.bincount)"
      ]
    },
    {
      "cell_type": "code",
      "execution_count": 76,
      "metadata": {
        "id": "KojQwho0oH5h",
        "outputId": "0a56495e-d6cc-40ca-fe0e-99b59bf2e997",
        "colab": {
          "base_uri": "https://localhost:8080/"
        }
      },
      "outputs": [
        {
          "output_type": "stream",
          "name": "stdout",
          "text": [
            "[0.49602104 0.44725228 0.43888693 0.36596753 0.40585898 0.49466811\n",
            " 0.57503249 0.6236584  0.66941203 0.39720241]\n"
          ]
        }
      ],
      "source": [
        "A = np.random.uniform(0,1,100)\n",
        "B = np.random.randint(0,10,100)\n",
        "sums = np.bincount(B, weights=A)\n",
        "counts = np.bincount(B)\n",
        "means = sums / counts\n",
        "print(means)"
      ]
    },
    {
      "cell_type": "markdown",
      "metadata": {
        "id": "QHGyh6tqoH5h"
      },
      "source": [
        "#### 69. How to get the diagonal of a dot product? (★★★) \n",
        "(**hint**: np.diag)"
      ]
    },
    {
      "cell_type": "code",
      "execution_count": 77,
      "metadata": {
        "id": "JTZt9smIoH5i",
        "outputId": "a96c289d-8959-419d-8d22-43302bb6284e",
        "colab": {
          "base_uri": "https://localhost:8080/"
        }
      },
      "outputs": [
        {
          "output_type": "execute_result",
          "data": {
            "text/plain": [
              "array([0.89963732, 1.65728143, 0.56440491, 2.26546026, 1.89273704])"
            ]
          },
          "metadata": {},
          "execution_count": 77
        }
      ],
      "source": [
        "A = np.random.uniform(0,1,(5,5))\n",
        "B = np.random.uniform(0,1,(5,5))\n",
        "np.diag(np.dot(A, B))"
      ]
    },
    {
      "cell_type": "markdown",
      "metadata": {
        "id": "zd20EchloH5i"
      },
      "source": [
        "#### 70. Consider the vector \\[1, 2, 3, 4, 5\\], how to build a new vector with 3 consecutive zeros interleaved between each value? (★★★) \n",
        "(**hint**: array\\[::4\\])"
      ]
    },
    {
      "cell_type": "code",
      "execution_count": 80,
      "metadata": {
        "id": "7KhZDubuoH5i",
        "outputId": "0289ccf7-14cd-4951-a91f-3d3970923112",
        "colab": {
          "base_uri": "https://localhost:8080/"
        }
      },
      "outputs": [
        {
          "output_type": "stream",
          "name": "stdout",
          "text": [
            "[1 2 3 4 5]\n"
          ]
        }
      ],
      "source": [
        "Z = np.array([1,2,3,4,5])\n",
        "nz = 3\n",
        "Y = np.zeros(len(Z) + (len(Z)-1)*(nz))\n",
        "Y[::nz+1] = Z\n",
        "print(Z)"
      ]
    },
    {
      "cell_type": "markdown",
      "metadata": {
        "id": "Yxznpqu2oH5i"
      },
      "source": [
        "#### 71. Consider an array of dimension (5,5,3), how to mulitply it by an array with dimensions (5,5)? (★★★) \n",
        "(**hint**: array\\[:, :, None\\])"
      ]
    },
    {
      "cell_type": "code",
      "execution_count": 81,
      "metadata": {
        "collapsed": true,
        "id": "PzQmhTq4oH5i",
        "outputId": "1517d83b-bc66-4e2e-8b3d-5bbce5dcdd41",
        "colab": {
          "base_uri": "https://localhost:8080/"
        }
      },
      "outputs": [
        {
          "output_type": "stream",
          "name": "stdout",
          "text": [
            "[[[2. 2. 2.]\n",
            "  [2. 2. 2.]\n",
            "  [2. 2. 2.]\n",
            "  [2. 2. 2.]\n",
            "  [2. 2. 2.]]\n",
            "\n",
            " [[2. 2. 2.]\n",
            "  [2. 2. 2.]\n",
            "  [2. 2. 2.]\n",
            "  [2. 2. 2.]\n",
            "  [2. 2. 2.]]\n",
            "\n",
            " [[2. 2. 2.]\n",
            "  [2. 2. 2.]\n",
            "  [2. 2. 2.]\n",
            "  [2. 2. 2.]\n",
            "  [2. 2. 2.]]\n",
            "\n",
            " [[2. 2. 2.]\n",
            "  [2. 2. 2.]\n",
            "  [2. 2. 2.]\n",
            "  [2. 2. 2.]\n",
            "  [2. 2. 2.]]\n",
            "\n",
            " [[2. 2. 2.]\n",
            "  [2. 2. 2.]\n",
            "  [2. 2. 2.]\n",
            "  [2. 2. 2.]\n",
            "  [2. 2. 2.]]]\n"
          ]
        }
      ],
      "source": [
        "A = np.ones((5,5,3))\n",
        "B = 2*np.ones((5,5))\n",
        "print(A * B[:,:,None])"
      ]
    },
    {
      "cell_type": "markdown",
      "metadata": {
        "id": "GEeC0EVuoH5i"
      },
      "source": [
        "#### 72. How to swap two rows of an array? (★★★) \n",
        "(**hint**: array\\[\\[\\]\\] = array\\[\\[\\]\\])"
      ]
    },
    {
      "cell_type": "code",
      "execution_count": 82,
      "metadata": {
        "id": "V7wx58TyoH5i",
        "outputId": "e298272d-257f-499e-dea1-d4880e3d269b",
        "colab": {
          "base_uri": "https://localhost:8080/"
        }
      },
      "outputs": [
        {
          "output_type": "stream",
          "name": "stdout",
          "text": [
            "[[0 1 2]\n",
            " [3 4 5]\n",
            " [6 7 8]]\n",
            "Swap\n",
            "[[3 4 5]\n",
            " [0 1 2]\n",
            " [6 7 8]]\n"
          ]
        }
      ],
      "source": [
        "A = np.arange(9).reshape(3,3)\n",
        "print(A)\n",
        "\n",
        "A[[0,1]] = A[[1,0]]\n",
        "print(\"Swap\")\n",
        "print(A)"
      ]
    },
    {
      "cell_type": "markdown",
      "metadata": {
        "id": "EVCj8TERoH5j"
      },
      "source": [
        "#### 73. Consider a set of 10 triplets describing 10 triangles (with shared vertices), find the set of unique line segments composing all the  triangles (★★★) \n",
        "(**hint**: repeat, np.roll, np.sort, view, np.unique)"
      ]
    },
    {
      "cell_type": "code",
      "execution_count": 83,
      "metadata": {
        "id": "lr747XDGoH5j",
        "outputId": "671eafd8-e7b1-4e3e-b2ed-d7c22985f1a7",
        "colab": {
          "base_uri": "https://localhost:8080/"
        }
      },
      "outputs": [
        {
          "output_type": "stream",
          "name": "stdout",
          "text": [
            "[( 7, 65) ( 7, 78) ( 9, 20) ( 9, 78) (13, 26) (13, 50) (13, 57) (13, 77)\n",
            " (18, 42) (18, 59) (20, 49) (20, 64) (20, 78) (21, 32) (21, 67) (22, 92)\n",
            " (22, 97) (26, 57) (30, 41) (30, 63) (32, 67) (41, 63) (42, 59) (49, 64)\n",
            " (50, 77) (58, 63) (58, 75) (63, 75) (65, 78) (92, 97)]\n"
          ]
        }
      ],
      "source": [
        "faces = np.random.randint(0,100,(10,3))\n",
        "A = np.roll(faces.repeat(2,axis=1),-1,axis=1)\n",
        "A = A.reshape(len(A)*3,2)\n",
        "A = np.sort(A,axis=1)\n",
        "B = A.view( dtype=[('p0',A.dtype),('p1',A.dtype)] )\n",
        "B = np.unique(B)\n",
        "print(B)"
      ]
    },
    {
      "cell_type": "markdown",
      "metadata": {
        "id": "MeUYUFZ6oH5j"
      },
      "source": [
        "#### 74. Given an array C that is a bincount, how to produce an array A such that np.bincount(A) == C? (★★★) \n",
        "(**hint**: np.repeat)"
      ]
    },
    {
      "cell_type": "code",
      "execution_count": 84,
      "metadata": {
        "id": "a_QO0B6IoH5j",
        "outputId": "1205c877-b05f-4272-d8b7-78d71f5583f7",
        "colab": {
          "base_uri": "https://localhost:8080/"
        }
      },
      "outputs": [
        {
          "output_type": "stream",
          "name": "stdout",
          "text": [
            "[1 1 2 3 4 4 6]\n"
          ]
        }
      ],
      "source": [
        "A = np.bincount([1,1,2,3,4,4,6])\n",
        "B = np.repeat(np.arange(len(A)), A)\n",
        "print(B)"
      ]
    },
    {
      "cell_type": "markdown",
      "metadata": {
        "id": "i4nb4L2OoH5j"
      },
      "source": [
        "#### 75. How to compute averages using a sliding window over an array? (★★★) \n",
        "(**hint**: np.cumsum)"
      ]
    },
    {
      "cell_type": "code",
      "execution_count": 85,
      "metadata": {
        "id": "qomeE7HJoH5j",
        "outputId": "0732bc9e-106c-43b9-f5b8-26f0c2ce714e",
        "colab": {
          "base_uri": "https://localhost:8080/"
        }
      },
      "outputs": [
        {
          "output_type": "stream",
          "name": "stdout",
          "text": [
            "[ 1.  2.  3.  4.  5.  6.  7.  8.  9. 10. 11. 12. 13. 14. 15. 16. 17. 18.]\n"
          ]
        }
      ],
      "source": [
        "def moving_average(a, n=3) :\n",
        "    ret = np.cumsum(a, dtype=float)\n",
        "    ret[n:] = ret[n:] - ret[:-n]\n",
        "    return ret[n - 1:] / n\n",
        "Z = np.arange(20)\n",
        "print(moving_average(Z, n=3))"
      ]
    },
    {
      "cell_type": "markdown",
      "metadata": {
        "id": "YSQ6vKJYoH5j"
      },
      "source": [
        "#### 76. Consider a one-dimensional array Z, build a two-dimensional array whose first row is (Z\\[0\\],Z\\[1\\],Z\\[2\\]) and each subsequent row is  shifted by 1 (last row should be (Z\\[-3\\],Z\\[-2\\],Z\\[-1\\]) (★★★) \n",
        "(**hint**: from numpy.lib import stride_tricks)"
      ]
    },
    {
      "cell_type": "code",
      "execution_count": 86,
      "metadata": {
        "id": "mmspP5qYoH5j",
        "outputId": "5ead3993-f94c-4c33-cc20-3830a5839dfc",
        "colab": {
          "base_uri": "https://localhost:8080/"
        }
      },
      "outputs": [
        {
          "output_type": "stream",
          "name": "stdout",
          "text": [
            "[[0 1 2]\n",
            " [1 2 3]\n",
            " [2 3 4]\n",
            " [3 4 5]\n",
            " [4 5 6]\n",
            " [5 6 7]\n",
            " [6 7 8]\n",
            " [7 8 9]]\n"
          ]
        }
      ],
      "source": [
        "from numpy.lib import stride_tricks\n",
        "\n",
        "def rolling(a, window):\n",
        "    shape = (a.size - window + 1, window)\n",
        "    strides = (a.itemsize, a.itemsize)\n",
        "    return stride_tricks.as_strided(a, shape=shape, strides=strides)\n",
        "Z = rolling(np.arange(10), 3)\n",
        "print(Z)"
      ]
    },
    {
      "cell_type": "markdown",
      "metadata": {
        "id": "caGnKX5hoH5k"
      },
      "source": [
        "#### 77. How to negate a boolean, or to change the sign of a float inplace? (★★★) \n",
        "(**hint**: np.logical_not, np.negative)"
      ]
    },
    {
      "cell_type": "code",
      "execution_count": 87,
      "metadata": {
        "id": "XwxZ0eqSoH5k",
        "outputId": "67480dd2-1b2d-48da-c8c8-dac8cbb06009",
        "colab": {
          "base_uri": "https://localhost:8080/"
        }
      },
      "outputs": [
        {
          "output_type": "execute_result",
          "data": {
            "text/plain": [
              "array([-0.83954958,  0.32001035, -0.58882305,  0.96580493, -0.07651145,\n",
              "       -0.22939168,  0.54698288, -0.5742967 ,  0.41991334,  0.80692625,\n",
              "        0.86820514,  0.74041619, -0.59911625, -0.20170949, -0.63875596,\n",
              "        0.97536291,  0.4793628 ,  0.97418144,  0.43296711, -0.54963393,\n",
              "        0.17001895, -0.30161376, -0.64029033, -0.36514607,  0.64950624,\n",
              "       -0.85124306,  0.92076589, -0.31117323, -0.66213856,  0.77613981,\n",
              "       -0.70214517,  0.16362174, -0.74642495, -0.95597881, -0.02586499,\n",
              "        0.86895187, -0.57912718,  0.06789823,  0.71944272, -0.99934143,\n",
              "        0.66908592, -0.95580827,  0.33805418,  0.79632981, -0.6141982 ,\n",
              "       -0.00655782,  0.83861604, -0.30075286,  0.71192954,  0.12058749,\n",
              "       -0.70876219,  0.71204519,  0.42762258,  0.89776354,  0.83087615,\n",
              "        0.52666933,  0.03458144,  0.36877516, -0.12793678,  0.03644669,\n",
              "        0.51624437, -0.0930009 ,  0.38169716,  0.3356746 ,  0.97384049,\n",
              "        0.18383664,  0.18003073, -0.77187639,  0.53775002,  0.83502004,\n",
              "        0.87192834, -0.01661708,  0.66612819, -0.0397723 , -0.32324706,\n",
              "        0.84657457, -0.82614133,  0.11012708,  0.54540175, -0.95303468,\n",
              "       -0.77085676,  0.15008557, -0.55275628, -0.77662581, -0.04191037,\n",
              "       -0.28749215, -0.8294487 ,  0.49537397,  0.92776627,  0.97240551,\n",
              "       -0.81886706,  0.34277595, -0.70620988,  0.32111825, -0.44913589,\n",
              "       -0.5254281 , -0.84665143,  0.08816512, -0.68155925,  0.92725971])"
            ]
          },
          "metadata": {},
          "execution_count": 87
        }
      ],
      "source": [
        "Z = np.random.randint(0,2,100)\n",
        "np.logical_not(Z, out=Z)\n",
        "\n",
        "Z = np.random.uniform(-1.0,1.0,100)\n",
        "np.negative(Z, out=Z)"
      ]
    },
    {
      "cell_type": "markdown",
      "metadata": {
        "id": "p9M-nOHyoH5k"
      },
      "source": [
        "#### 78. Consider 2 sets of points P0,P1 describing lines (2d) and a point p, how to compute distance from p to each line i  (P0\\[i\\],P1\\[i\\])? (★★★)"
      ]
    },
    {
      "cell_type": "code",
      "execution_count": 88,
      "metadata": {
        "id": "c0iuyEBGoH5k",
        "outputId": "7a1744be-13cb-4bd3-f9a9-d9af0ab3d38e",
        "colab": {
          "base_uri": "https://localhost:8080/"
        }
      },
      "outputs": [
        {
          "output_type": "stream",
          "name": "stdout",
          "text": [
            "[12.40664827  5.21588163  7.47434002  7.95578566  8.54908782  8.36035033\n",
            "  2.72612512 16.90944637  0.81839317  3.27996768]\n"
          ]
        }
      ],
      "source": [
        "def distance(P0, P1, p):\n",
        "    T = P1 - P0\n",
        "    L = (T**2).sum(axis=1)\n",
        "    U = -((P0[:,0]-p[...,0])*T[:,0] + (P0[:,1]-p[...,1])*T[:,1]) / L\n",
        "    U = U.reshape(len(U),1)\n",
        "    D = P0 + U*T - p\n",
        "    return np.sqrt((D**2).sum(axis=1))\n",
        "\n",
        "P0 = np.random.uniform(-10,10,(10,2))\n",
        "P1 = np.random.uniform(-10,10,(10,2))\n",
        "p  = np.random.uniform(-10,10,( 1,2))\n",
        "print(distance(P0, P1, p))"
      ]
    },
    {
      "cell_type": "markdown",
      "metadata": {
        "id": "D0oC3-YboH5k"
      },
      "source": [
        "#### 79. Consider 2 sets of points P0,P1 describing lines (2d) and a set of points P, how to compute distance from each point j (P\\[j\\]) to each line i (P0\\[i\\],P1\\[i\\])? (★★★)"
      ]
    },
    {
      "cell_type": "code",
      "execution_count": 89,
      "metadata": {
        "id": "ukWUnZFIoH5k",
        "outputId": "97b61f5f-1aa2-4380-e806-9530c9761d21",
        "colab": {
          "base_uri": "https://localhost:8080/"
        }
      },
      "outputs": [
        {
          "output_type": "stream",
          "name": "stdout",
          "text": [
            "[[6.36694964e+00 8.48946959e-01 2.17956140e+00 2.31904124e+00\n",
            "  9.48378765e+00 1.32119556e+01 1.22701439e+01 8.53973554e+00\n",
            "  1.65471442e+01 1.24721903e-02]\n",
            " [8.03554732e-01 7.37359674e+00 1.27813878e+00 2.08454138e+00\n",
            "  2.23206844e+00 7.74445554e+00 5.47808503e+00 6.18159268e+00\n",
            "  9.30839602e+00 2.35549995e+00]\n",
            " [4.06791822e+00 5.83487697e+00 1.02870151e+01 5.88149525e+00\n",
            "  8.91554850e+00 6.21830950e+00 1.48841266e+01 8.85347399e-01\n",
            "  1.63479850e+01 8.88596084e+00]\n",
            " [2.48706529e+00 5.80172326e+00 4.83823598e+00 3.40023600e+00\n",
            "  6.42342244e+00 7.67783254e+00 1.09500889e+01 3.00304660e+00\n",
            "  1.36731522e+01 3.46556246e+00]\n",
            " [1.12723656e+00 9.35435365e+00 3.93569861e+00 6.23885551e+00\n",
            "  2.92837192e+00 4.44409126e+00 7.96344752e+00 1.02398233e+00\n",
            "  1.02179132e+01 3.15029334e+00]\n",
            " [6.17667420e+00 5.54782259e-01 5.99651638e-01 3.29837847e+00\n",
            "  9.00767437e+00 1.39130979e+01 1.13161796e+01 9.87697998e+00\n",
            "  1.60124499e+01 1.60579769e+00]\n",
            " [7.56986577e+00 1.71554793e+01 7.00320828e+00 1.47434198e+01\n",
            "  2.41025550e+00 3.97932004e+00 5.07098513e+00 6.90250472e+00\n",
            "  5.13541549e+00 7.47603894e+00]\n",
            " [9.76474655e+00 3.33978410e-01 9.89682195e+00 7.19913269e-02\n",
            "  1.40788524e+01 1.23461139e+01 1.86491393e+01 3.93919329e+00\n",
            "  2.13767599e+01 7.48816914e+00]\n",
            " [5.88086324e+00 1.34770821e+01 9.97822831e-01 8.68260313e+00\n",
            "  2.00216840e+00 1.18658439e+00 3.12503253e+00 6.79688470e-02\n",
            "  5.27040777e+00 9.05656326e-01]\n",
            " [1.34281605e+00 7.23013264e+00 3.55768518e+00 9.28126427e-01\n",
            "  1.30172666e+00 8.48164488e+00 3.91729010e+00 7.90387773e+00\n",
            "  8.29906496e+00 4.64439128e+00]]\n"
          ]
        }
      ],
      "source": [
        "P0 = np.random.uniform(-10, 10, (10,2))\n",
        "P1 = np.random.uniform(-10,10,(10,2))\n",
        "p = np.random.uniform(-10, 10, (10,2))\n",
        "print(np.array([distance(P0,P1,p_i) for p_i in p]))"
      ]
    },
    {
      "cell_type": "markdown",
      "metadata": {
        "id": "QiJM7d8MoH5k"
      },
      "source": [
        "#### 80. Consider an arbitrary array, write a function that extract a subpart with a fixed shape and centered on a given element (pad with a `fill` value when necessary) (★★★) \n",
        "(**hint**: minimum, maximum)"
      ]
    },
    {
      "cell_type": "code",
      "execution_count": 90,
      "metadata": {
        "id": "1pxByPUcoH5k",
        "outputId": "d125e30d-9cf3-4c2b-be35-09463f603420",
        "colab": {
          "base_uri": "https://localhost:8080/"
        }
      },
      "outputs": [
        {
          "output_type": "stream",
          "name": "stdout",
          "text": [
            "[[2 1 3 2 4 4 6 5 6 7]\n",
            " [4 0 3 3 6 7 5 4 0 7]\n",
            " [8 6 3 1 6 3 6 6 2 4]\n",
            " [7 2 8 6 3 7 6 6 2 8]\n",
            " [4 8 0 3 1 9 2 9 2 4]\n",
            " [8 2 8 2 9 5 6 5 7 2]\n",
            " [1 7 7 6 9 6 7 9 4 6]\n",
            " [2 0 9 0 6 8 2 5 0 1]\n",
            " [5 3 2 1 4 2 6 1 4 0]\n",
            " [6 7 9 2 0 1 6 3 7 5]]\n",
            "[[0 0 0 0 0]\n",
            " [0 2 1 3 2]\n",
            " [0 4 0 3 3]\n",
            " [0 8 6 3 1]\n",
            " [0 7 2 8 6]]\n"
          ]
        },
        {
          "output_type": "stream",
          "name": "stderr",
          "text": [
            "/usr/local/lib/python3.7/dist-packages/ipykernel_launcher.py:23: FutureWarning: Using a non-tuple sequence for multidimensional indexing is deprecated; use `arr[tuple(seq)]` instead of `arr[seq]`. In the future this will be interpreted as an array index, `arr[np.array(seq)]`, which will result either in an error or a different result.\n"
          ]
        }
      ],
      "source": [
        "Z = np.random.randint(0,10,(10,10))\n",
        "shape = (5,5)\n",
        "fill  = 0\n",
        "position = (1,1)\n",
        "\n",
        "R = np.ones(shape, dtype=Z.dtype)*fill\n",
        "P  = np.array(list(position)).astype(int)\n",
        "Rs = np.array(list(R.shape)).astype(int)\n",
        "Zs = np.array(list(Z.shape)).astype(int)\n",
        "\n",
        "R_start = np.zeros((len(shape),)).astype(int)\n",
        "R_stop  = np.array(list(shape)).astype(int)\n",
        "Z_start = (P-Rs//2)\n",
        "Z_stop  = (P+Rs//2)+Rs%2\n",
        "\n",
        "R_start = (R_start - np.minimum(Z_start,0)).tolist()\n",
        "Z_start = (np.maximum(Z_start,0)).tolist()\n",
        "R_stop = np.maximum(R_start, (R_stop - np.maximum(Z_stop-Zs,0))).tolist()\n",
        "Z_stop = (np.minimum(Z_stop,Zs)).tolist()\n",
        "\n",
        "r = [slice(start,stop) for start,stop in zip(R_start,R_stop)]\n",
        "z = [slice(start,stop) for start,stop in zip(Z_start,Z_stop)]\n",
        "R[r] = Z[z]\n",
        "print(Z)\n",
        "print(R)"
      ]
    },
    {
      "cell_type": "markdown",
      "metadata": {
        "id": "FiCBDaeeoH5l"
      },
      "source": [
        "#### 81. Consider an array Z = \\[1,2,3,4,5,6,7,8,9,10,11,12,13,14\\], how to generate an array R = \\[\\[1,2,3,4\\], \\[2,3,4,5\\], \\[3,4,5,6\\], ..., \\[11,12,13,14\\]\\]? (★★★) \n",
        "(**hint**: stride\\_tricks.as\\_strided)"
      ]
    },
    {
      "cell_type": "code",
      "execution_count": 91,
      "metadata": {
        "id": "NQZ1y-ufoH5l",
        "outputId": "a5b20b2a-81cd-4684-a6c9-a7b4d7aa9021",
        "colab": {
          "base_uri": "https://localhost:8080/"
        }
      },
      "outputs": [
        {
          "output_type": "stream",
          "name": "stdout",
          "text": [
            "[[ 1  2  3  4]\n",
            " [ 2  3  4  5]\n",
            " [ 3  4  5  6]\n",
            " [ 4  5  6  7]\n",
            " [ 5  6  7  8]\n",
            " [ 6  7  8  9]\n",
            " [ 7  8  9 10]\n",
            " [ 8  9 10 11]\n",
            " [ 9 10 11 12]\n",
            " [10 11 12 13]\n",
            " [11 12 13 14]]\n"
          ]
        }
      ],
      "source": [
        "Z = np.arange(1,15,dtype=np.uint32)\n",
        "X = stride_tricks.as_strided(Z,(11,4),(4,4))\n",
        "print(X)"
      ]
    },
    {
      "cell_type": "markdown",
      "metadata": {
        "id": "TY1w5-EFoH5l"
      },
      "source": [
        "#### 82. Compute a matrix rank (★★★) \n",
        "(**hint**: np.linalg.svd) (suggestion: np.linalg.svd)"
      ]
    },
    {
      "cell_type": "code",
      "execution_count": 92,
      "metadata": {
        "id": "khgQfgK7oH5l",
        "outputId": "29b6405a-94f6-486d-b106-faec90675c44",
        "colab": {
          "base_uri": "https://localhost:8080/"
        }
      },
      "outputs": [
        {
          "output_type": "stream",
          "name": "stdout",
          "text": [
            "8\n"
          ]
        }
      ],
      "source": [
        "Z = np.random.uniform(0,1,(8,8))\n",
        "\n",
        "U, S, V = np.linalg.svd(Z) \n",
        "\n",
        "rank = np.sum(S > 1e-8)\n",
        "\n",
        "print(rank)"
      ]
    },
    {
      "cell_type": "markdown",
      "metadata": {
        "id": "c0qSrwCyoH5l"
      },
      "source": [
        "#### 83. How to find the most frequent value in an array? \n",
        "(**hint**: np.bincount, argmax)"
      ]
    },
    {
      "cell_type": "code",
      "execution_count": 93,
      "metadata": {
        "id": "iCR3DszJoH5l",
        "outputId": "869e66a9-7a9a-4530-ba86-2f279ab1cb2e",
        "colab": {
          "base_uri": "https://localhost:8080/"
        }
      },
      "outputs": [
        {
          "output_type": "stream",
          "name": "stdout",
          "text": [
            "5\n"
          ]
        }
      ],
      "source": [
        "Z = np.random.randint(0,10,50)\n",
        "\n",
        "print(np.bincount(Z).argmax())"
      ]
    },
    {
      "cell_type": "markdown",
      "metadata": {
        "id": "dznbqrmBoH5m"
      },
      "source": [
        "#### 84. Extract all the contiguous 3x3 blocks from a random 10x10 matrix (★★★) \n",
        "(**hint**: stride\\_tricks.as\\_strided)"
      ]
    },
    {
      "cell_type": "code",
      "execution_count": 94,
      "metadata": {
        "id": "e295jdCUoH5m",
        "outputId": "5222d894-b594-4260-d1ba-20601378b354",
        "colab": {
          "base_uri": "https://localhost:8080/"
        }
      },
      "outputs": [
        {
          "output_type": "stream",
          "name": "stdout",
          "text": [
            "[[[[2 3 3]\n",
            "   [2 2 0]\n",
            "   [0 2 2]]\n",
            "\n",
            "  [[3 3 0]\n",
            "   [2 0 1]\n",
            "   [2 2 2]]\n",
            "\n",
            "  [[3 0 1]\n",
            "   [0 1 3]\n",
            "   [2 2 0]]\n",
            "\n",
            "  [[0 1 2]\n",
            "   [1 3 4]\n",
            "   [2 0 3]]\n",
            "\n",
            "  [[1 2 3]\n",
            "   [3 4 2]\n",
            "   [0 3 3]]\n",
            "\n",
            "  [[2 3 2]\n",
            "   [4 2 4]\n",
            "   [3 3 1]]\n",
            "\n",
            "  [[3 2 0]\n",
            "   [2 4 3]\n",
            "   [3 1 4]]\n",
            "\n",
            "  [[2 0 2]\n",
            "   [4 3 4]\n",
            "   [1 4 2]]]\n",
            "\n",
            "\n",
            " [[[2 2 0]\n",
            "   [0 2 2]\n",
            "   [0 2 3]]\n",
            "\n",
            "  [[2 0 1]\n",
            "   [2 2 2]\n",
            "   [2 3 2]]\n",
            "\n",
            "  [[0 1 3]\n",
            "   [2 2 0]\n",
            "   [3 2 4]]\n",
            "\n",
            "  [[1 3 4]\n",
            "   [2 0 3]\n",
            "   [2 4 3]]\n",
            "\n",
            "  [[3 4 2]\n",
            "   [0 3 3]\n",
            "   [4 3 3]]\n",
            "\n",
            "  [[4 2 4]\n",
            "   [3 3 1]\n",
            "   [3 3 2]]\n",
            "\n",
            "  [[2 4 3]\n",
            "   [3 1 4]\n",
            "   [3 2 2]]\n",
            "\n",
            "  [[4 3 4]\n",
            "   [1 4 2]\n",
            "   [2 2 3]]]\n",
            "\n",
            "\n",
            " [[[0 2 2]\n",
            "   [0 2 3]\n",
            "   [4 4 4]]\n",
            "\n",
            "  [[2 2 2]\n",
            "   [2 3 2]\n",
            "   [4 4 3]]\n",
            "\n",
            "  [[2 2 0]\n",
            "   [3 2 4]\n",
            "   [4 3 0]]\n",
            "\n",
            "  [[2 0 3]\n",
            "   [2 4 3]\n",
            "   [3 0 2]]\n",
            "\n",
            "  [[0 3 3]\n",
            "   [4 3 3]\n",
            "   [0 2 3]]\n",
            "\n",
            "  [[3 3 1]\n",
            "   [3 3 2]\n",
            "   [2 3 1]]\n",
            "\n",
            "  [[3 1 4]\n",
            "   [3 2 2]\n",
            "   [3 1 1]]\n",
            "\n",
            "  [[1 4 2]\n",
            "   [2 2 3]\n",
            "   [1 1 2]]]\n",
            "\n",
            "\n",
            " [[[0 2 3]\n",
            "   [4 4 4]\n",
            "   [3 3 2]]\n",
            "\n",
            "  [[2 3 2]\n",
            "   [4 4 3]\n",
            "   [3 2 2]]\n",
            "\n",
            "  [[3 2 4]\n",
            "   [4 3 0]\n",
            "   [2 2 3]]\n",
            "\n",
            "  [[2 4 3]\n",
            "   [3 0 2]\n",
            "   [2 3 4]]\n",
            "\n",
            "  [[4 3 3]\n",
            "   [0 2 3]\n",
            "   [3 4 2]]\n",
            "\n",
            "  [[3 3 2]\n",
            "   [2 3 1]\n",
            "   [4 2 1]]\n",
            "\n",
            "  [[3 2 2]\n",
            "   [3 1 1]\n",
            "   [2 1 3]]\n",
            "\n",
            "  [[2 2 3]\n",
            "   [1 1 2]\n",
            "   [1 3 0]]]\n",
            "\n",
            "\n",
            " [[[4 4 4]\n",
            "   [3 3 2]\n",
            "   [0 1 4]]\n",
            "\n",
            "  [[4 4 3]\n",
            "   [3 2 2]\n",
            "   [1 4 4]]\n",
            "\n",
            "  [[4 3 0]\n",
            "   [2 2 3]\n",
            "   [4 4 2]]\n",
            "\n",
            "  [[3 0 2]\n",
            "   [2 3 4]\n",
            "   [4 2 2]]\n",
            "\n",
            "  [[0 2 3]\n",
            "   [3 4 2]\n",
            "   [2 2 2]]\n",
            "\n",
            "  [[2 3 1]\n",
            "   [4 2 1]\n",
            "   [2 2 4]]\n",
            "\n",
            "  [[3 1 1]\n",
            "   [2 1 3]\n",
            "   [2 4 0]]\n",
            "\n",
            "  [[1 1 2]\n",
            "   [1 3 0]\n",
            "   [4 0 0]]]\n",
            "\n",
            "\n",
            " [[[3 3 2]\n",
            "   [0 1 4]\n",
            "   [3 0 0]]\n",
            "\n",
            "  [[3 2 2]\n",
            "   [1 4 4]\n",
            "   [0 0 0]]\n",
            "\n",
            "  [[2 2 3]\n",
            "   [4 4 2]\n",
            "   [0 0 3]]\n",
            "\n",
            "  [[2 3 4]\n",
            "   [4 2 2]\n",
            "   [0 3 3]]\n",
            "\n",
            "  [[3 4 2]\n",
            "   [2 2 2]\n",
            "   [3 3 2]]\n",
            "\n",
            "  [[4 2 1]\n",
            "   [2 2 4]\n",
            "   [3 2 3]]\n",
            "\n",
            "  [[2 1 3]\n",
            "   [2 4 0]\n",
            "   [2 3 2]]\n",
            "\n",
            "  [[1 3 0]\n",
            "   [4 0 0]\n",
            "   [3 2 1]]]\n",
            "\n",
            "\n",
            " [[[0 1 4]\n",
            "   [3 0 0]\n",
            "   [0 0 0]]\n",
            "\n",
            "  [[1 4 4]\n",
            "   [0 0 0]\n",
            "   [0 0 4]]\n",
            "\n",
            "  [[4 4 2]\n",
            "   [0 0 3]\n",
            "   [0 4 2]]\n",
            "\n",
            "  [[4 2 2]\n",
            "   [0 3 3]\n",
            "   [4 2 2]]\n",
            "\n",
            "  [[2 2 2]\n",
            "   [3 3 2]\n",
            "   [2 2 4]]\n",
            "\n",
            "  [[2 2 4]\n",
            "   [3 2 3]\n",
            "   [2 4 1]]\n",
            "\n",
            "  [[2 4 0]\n",
            "   [2 3 2]\n",
            "   [4 1 1]]\n",
            "\n",
            "  [[4 0 0]\n",
            "   [3 2 1]\n",
            "   [1 1 4]]]\n",
            "\n",
            "\n",
            " [[[3 0 0]\n",
            "   [0 0 0]\n",
            "   [4 1 3]]\n",
            "\n",
            "  [[0 0 0]\n",
            "   [0 0 4]\n",
            "   [1 3 3]]\n",
            "\n",
            "  [[0 0 3]\n",
            "   [0 4 2]\n",
            "   [3 3 4]]\n",
            "\n",
            "  [[0 3 3]\n",
            "   [4 2 2]\n",
            "   [3 4 0]]\n",
            "\n",
            "  [[3 3 2]\n",
            "   [2 2 4]\n",
            "   [4 0 4]]\n",
            "\n",
            "  [[3 2 3]\n",
            "   [2 4 1]\n",
            "   [0 4 0]]\n",
            "\n",
            "  [[2 3 2]\n",
            "   [4 1 1]\n",
            "   [4 0 0]]\n",
            "\n",
            "  [[3 2 1]\n",
            "   [1 1 4]\n",
            "   [0 0 4]]]]\n"
          ]
        }
      ],
      "source": [
        "Z = np.random.randint(0,5,(10,10))\n",
        "\n",
        "n = 3\n",
        "\n",
        "a = 1 + (Z.shape[0]-3)\n",
        "\n",
        "b = 1 + (Z.shape[1]-3)\n",
        "\n",
        "C = stride_tricks.as_strided(Z, shape=(a, b, n, n), strides=Z.strides + Z.strides)\n",
        "\n",
        "print(C)"
      ]
    },
    {
      "cell_type": "markdown",
      "metadata": {
        "id": "iTwu7OfUoH5m"
      },
      "source": [
        "#### 85. Create a 2D array subclass such that Z\\[i,j\\] == Z\\[j,i\\] (★★★) \n",
        "(**hint**: class method)"
      ]
    },
    {
      "cell_type": "code",
      "execution_count": 97,
      "metadata": {
        "id": "WWvGNheZoH5m",
        "outputId": "8f92b439-6fc1-4da7-ae54-9fbcaa6dbc06",
        "colab": {
          "base_uri": "https://localhost:8080/"
        }
      },
      "outputs": [
        {
          "output_type": "stream",
          "name": "stdout",
          "text": [
            "[[14 13 24 20 19 14 19]\n",
            " [13 15 15 10 32 15  9]\n",
            " [24 15  7 42  5 10 33]\n",
            " [20 10  4 11 13 24 17]\n",
            " [19 32  5 13 17 17 21]\n",
            " [14 15 10 24 17  3 15]\n",
            " [19  9 33 17 21 15 15]]\n"
          ]
        }
      ],
      "source": [
        "class Symetric(np.ndarray):\n",
        "    def __setitem__(self, index, value):\n",
        "        a,b = index\n",
        "        super(Symetric, self).__setitem__((a,b), value)\n",
        "        super(Symetric, self).__setitem__((a,b), value)\n",
        "\n",
        "def symetric(Z):\n",
        "    return np.asarray(Z + Z.T - np.diag(Z.diagonal())).view(Symetric)\n",
        "\n",
        "S = symetric(np.random.randint(1,20,(7,7)))\n",
        "S[2,3] = 42\n",
        "print(S)"
      ]
    },
    {
      "cell_type": "markdown",
      "metadata": {
        "id": "zwru8OcqoH5m"
      },
      "source": [
        "#### 86. Consider a set of p matrices wich shape (n,n) and a set of p vectors with shape (n,1). How to compute the sum of of the p matrix products at once? (result has shape (n,1)) (★★★) \n",
        "(**hint**: np.tensordot)"
      ]
    },
    {
      "cell_type": "code",
      "execution_count": 98,
      "metadata": {
        "id": "kuoN9IamoH5m",
        "outputId": "d64c711a-199e-46d6-831b-f3b3c31452c1",
        "colab": {
          "base_uri": "https://localhost:8080/"
        }
      },
      "outputs": [
        {
          "output_type": "stream",
          "name": "stdout",
          "text": [
            "[[200.]\n",
            " [200.]\n",
            " [200.]\n",
            " [200.]\n",
            " [200.]\n",
            " [200.]\n",
            " [200.]\n",
            " [200.]\n",
            " [200.]\n",
            " [200.]\n",
            " [200.]\n",
            " [200.]\n",
            " [200.]\n",
            " [200.]\n",
            " [200.]\n",
            " [200.]\n",
            " [200.]\n",
            " [200.]\n",
            " [200.]\n",
            " [200.]]\n"
          ]
        }
      ],
      "source": [
        "p, n = 10, 20\n",
        "\n",
        "M = np.ones((p,n,n))\n",
        "\n",
        "V = np.ones((p,n,1))\n",
        "\n",
        "S = np.tensordot(M, V, axes=[[0, 2], [0, 1]])\n",
        "\n",
        "print(S)"
      ]
    },
    {
      "cell_type": "markdown",
      "metadata": {
        "id": "F9vnfIyToH5m"
      },
      "source": [
        "#### 87. Consider a 16x16 array, how to get the block-sum (block size is 4x4)? (★★★) \n",
        "(**hint**: np.add.reduceat)"
      ]
    },
    {
      "cell_type": "code",
      "execution_count": 99,
      "metadata": {
        "id": "GRUwfn13oH5n",
        "outputId": "47c0c552-bda3-49f6-d59b-c4edfa117116",
        "colab": {
          "base_uri": "https://localhost:8080/"
        }
      },
      "outputs": [
        {
          "output_type": "stream",
          "name": "stdout",
          "text": [
            "[[16. 16. 16. 16.]\n",
            " [16. 16. 16. 16.]\n",
            " [16. 16. 16. 16.]\n",
            " [16. 16. 16. 16.]]\n"
          ]
        }
      ],
      "source": [
        "X = np.ones((16,16))\n",
        "Y = 4\n",
        "Z = np.add.reduceat(np.add.reduceat(X, np.arange(0, X.shape[0], Y), axis=0),\n",
        "np.arange(0, X.shape[1], Y), axis=1)\n",
        "print(Z)"
      ]
    },
    {
      "cell_type": "markdown",
      "metadata": {
        "id": "DM3KYqacoH5n"
      },
      "source": [
        "#### 88. How to implement the Game of Life using numpy arrays? (★★★)"
      ]
    },
    {
      "cell_type": "code",
      "execution_count": 109,
      "metadata": {
        "id": "BGzMeYGboH5n",
        "outputId": "98d3c5ef-ebd3-430e-bbdd-4da131391a89",
        "colab": {
          "base_uri": "https://localhost:8080/"
        }
      },
      "outputs": [
        {
          "output_type": "stream",
          "name": "stdout",
          "text": [
            "[[0 0 0 ... 0 0 0]\n",
            " [0 0 0 ... 0 0 0]\n",
            " [0 0 0 ... 0 0 0]\n",
            " ...\n",
            " [0 0 0 ... 0 0 0]\n",
            " [0 0 0 ... 0 0 0]\n",
            " [0 0 0 ... 0 0 0]]\n"
          ]
        }
      ],
      "source": [
        "def iterate(Z):\n",
        "\n",
        "    N = (Z[0:-2,0:-2] + Z[0:-2,1:-1] + Z[0:-2,2:] +\n",
        "         Z[1:-1,0:-2]                + Z[1:-1,2:] +\n",
        "         Z[2:  ,0:-2] + Z[2:  ,1:-1] + Z[2:  ,2:])\n",
        "\n",
        "\n",
        "    birth = (N==3) & (Z[1:-1,1:-1]==0)\n",
        "    survive = ((N==2) | (N==3)) & (Z[1:-1,1:-1]==1)\n",
        "    Z[...] = 0\n",
        "    Z[1:-1,1:-1][birth | survive] = 1\n",
        "    return Z\n",
        "Z = np.random.randint(0,2,(50,50))\n",
        "for i in range(100): Z = iterate(Z)\n",
        "print(Z)"
      ]
    },
    {
      "cell_type": "markdown",
      "metadata": {
        "id": "aZdmIEuRoH5n"
      },
      "source": [
        "#### 89. How to get the n largest values of an array (★★★) \n",
        "(**hint**: np.argsort | np.argpartition)"
      ]
    },
    {
      "cell_type": "code",
      "execution_count": 110,
      "metadata": {
        "id": "rrOsXsOkoH5n",
        "outputId": "f1f46385-03d1-4cc8-8e7f-a20f7745c229",
        "colab": {
          "base_uri": "https://localhost:8080/"
        }
      },
      "outputs": [
        {
          "output_type": "stream",
          "name": "stdout",
          "text": [
            "[9995 9996 9997 9998 9999]\n",
            "[9998 9997 9999 9996 9995]\n"
          ]
        }
      ],
      "source": [
        "Z = np.arange(10000)\n",
        "\n",
        "np.random.shuffle(Z)\n",
        "\n",
        "n = 5\n",
        "\n",
        "\n",
        "print (Z[np.argsort(Z)[-n:]])\n",
        "\n",
        "\n",
        "print (Z[np.argpartition(-Z,n)[:n]])"
      ]
    },
    {
      "cell_type": "markdown",
      "metadata": {
        "id": "8xY1eql5oH5n"
      },
      "source": [
        "#### 90. Given an arbitrary number of vectors, build the cartesian product (every combinations of every item) (★★★) \n",
        "(**hint**: np.indices)"
      ]
    },
    {
      "cell_type": "code",
      "execution_count": 112,
      "metadata": {
        "scrolled": true,
        "id": "vNDoybrToH5n",
        "outputId": "01b7fe82-eac6-4c87-f8b4-0adf55443ad0",
        "colab": {
          "base_uri": "https://localhost:8080/"
        }
      },
      "outputs": [
        {
          "output_type": "stream",
          "name": "stdout",
          "text": [
            "[[1 4 6]\n",
            " [1 4 7]\n",
            " [1 5 6]\n",
            " [1 5 7]\n",
            " [2 4 6]\n",
            " [2 4 7]\n",
            " [2 5 6]\n",
            " [2 5 7]\n",
            " [3 4 6]\n",
            " [3 4 7]\n",
            " [3 5 6]\n",
            " [3 5 7]]\n"
          ]
        }
      ],
      "source": [
        "def cartesian(arrays):\n",
        "    arrays = [np.asarray(a) for a in arrays]\n",
        "    shape = (len(x) for x in arrays)\n",
        "\n",
        "    ix = np.indices(shape, dtype=int)\n",
        "    ix = ix.reshape(len(arrays), -1).T\n",
        "\n",
        "    for n, arr in enumerate(arrays):\n",
        "        ix[:, n] = arrays[n][ix[:, n]]\n",
        "\n",
        "    return ix\n",
        "\n",
        "print (cartesian(([1, 2, 3], [4, 5], [6, 7])))"
      ]
    },
    {
      "cell_type": "markdown",
      "metadata": {
        "id": "8xWS662loH5n"
      },
      "source": [
        "#### 91. How to create a record array from a regular array? (★★★) \n",
        "(**hint**: np.core.records.fromarrays)"
      ]
    },
    {
      "cell_type": "code",
      "execution_count": 114,
      "metadata": {
        "id": "8wOiONEYoH5n",
        "outputId": "76e5bc6b-f7f8-44f9-fb56-cc0430af99e9",
        "colab": {
          "base_uri": "https://localhost:8080/"
        }
      },
      "outputs": [
        {
          "output_type": "stream",
          "name": "stdout",
          "text": [
            "[(b'Hello', 2.5, 3) (b'World', 3.6, 2)]\n"
          ]
        }
      ],
      "source": [
        "Z = np.array([(\"Hello\", 2.5, 3),\n",
        "              (\"World\", 3.6, 2)])\n",
        "R = np.core.records.fromarrays(Z.T,\n",
        "                               names='col1, col2, col3',\n",
        "                               formats = 'S8, f8, i8')\n",
        "print(R)"
      ]
    },
    {
      "cell_type": "markdown",
      "metadata": {
        "id": "LIGV3dl9oH5o"
      },
      "source": [
        "#### 92. Consider a large vector Z, compute Z to the power of 3 using 3 different methods (★★★) \n",
        "(**hint**: np.power, \\*, np.einsum)"
      ]
    },
    {
      "cell_type": "code",
      "execution_count": 115,
      "metadata": {
        "id": "gbLhtInEoH5o",
        "outputId": "ec670d75-f05b-4506-c6c0-0ea7cd254019",
        "colab": {
          "base_uri": "https://localhost:8080/"
        }
      },
      "outputs": [
        {
          "output_type": "stream",
          "name": "stdout",
          "text": [
            "1 loop, best of 5: 7.52 s per loop\n",
            "1 loop, best of 5: 410 ms per loop\n",
            "1 loop, best of 5: 339 ms per loop\n"
          ]
        }
      ],
      "source": [
        "x = np.random.rand(int(1e8))\n",
        "\n",
        "%timeit np.power(x,3)\n",
        "%timeit x*x*x\n",
        "%timeit np.einsum('i,i,i->i',x,x,x)"
      ]
    },
    {
      "cell_type": "markdown",
      "metadata": {
        "id": "0fnr4FEDoH5o"
      },
      "source": [
        "#### 93. Consider two arrays A and B of shape (8,3) and (2,2). How to find rows of A that contain elements of each row of B regardless of the order of the elements in B? (★★★) \n",
        "(**hint**: np.where)"
      ]
    },
    {
      "cell_type": "code",
      "execution_count": 116,
      "metadata": {
        "id": "hRrTOtAtoH5o",
        "outputId": "9b24afcb-5d94-4dec-a672-24665d046694",
        "colab": {
          "base_uri": "https://localhost:8080/"
        }
      },
      "outputs": [
        {
          "output_type": "stream",
          "name": "stdout",
          "text": [
            "[5]\n"
          ]
        }
      ],
      "source": [
        "A = np.random.randint(0,5,(8,3))\n",
        "B = np.random.randint(0,5,(2,2))\n",
        "\n",
        "C = (A[..., np.newaxis, np.newaxis] == B)\n",
        "rows = np.where(C.any((3,1)).all(1))[0]\n",
        "print(rows)"
      ]
    },
    {
      "cell_type": "markdown",
      "metadata": {
        "id": "3S_zUsY5oH5o"
      },
      "source": [
        "#### 94. Considering a 10x3 matrix, extract rows with unequal values (e.g. \\[2,2,3\\]) (★★★)"
      ]
    },
    {
      "cell_type": "code",
      "execution_count": 117,
      "metadata": {
        "id": "zJ3U_HX6oH5o",
        "outputId": "6eb956fa-1a44-45b3-b4cf-2dd81ad4801f",
        "colab": {
          "base_uri": "https://localhost:8080/"
        }
      },
      "outputs": [
        {
          "output_type": "stream",
          "name": "stdout",
          "text": [
            "Original vector:\n",
            "[[3 2 0]\n",
            " [1 2 2]\n",
            " [2 1 0]\n",
            " [1 2 1]\n",
            " [0 0 2]\n",
            " [1 0 0]\n",
            " [1 3 0]\n",
            " [3 2 0]\n",
            " [1 3 1]\n",
            " [2 2 2]]\n",
            "\n",
            "Rows with unequal values:\n",
            "[[3 2 0]\n",
            " [1 2 2]\n",
            " [2 1 0]\n",
            " [1 2 1]\n",
            " [0 0 2]\n",
            " [1 0 0]\n",
            " [1 3 0]\n",
            " [3 2 0]\n",
            " [1 3 1]]\n"
          ]
        }
      ],
      "source": [
        "nums = np.random.randint(0,4,(10,3))\n",
        "print(\"Original vector:\")\n",
        "print(nums)\n",
        "new_nums = np.logical_and.reduce(nums[:,1:] == nums[:,:-1], axis=1)\n",
        "result = nums[~new_nums]\n",
        "print(\"\\nRows with unequal values:\")\n",
        "print(result)"
      ]
    },
    {
      "cell_type": "markdown",
      "metadata": {
        "id": "V6XRIwsVoH5o"
      },
      "source": [
        "#### 95. Convert a vector of ints into a matrix binary representation (★★★) \n",
        "(**hint**: np.unpackbits)"
      ]
    },
    {
      "cell_type": "code",
      "execution_count": 118,
      "metadata": {
        "id": "IoIs3q5yoH5p",
        "outputId": "c4f30d1b-de7d-4711-9b5e-3c40c7e6d8b1",
        "colab": {
          "base_uri": "https://localhost:8080/"
        }
      },
      "outputs": [
        {
          "output_type": "stream",
          "name": "stdout",
          "text": [
            "[[0 0 0 0 0 0 0 0]\n",
            " [0 0 0 0 0 0 0 1]\n",
            " [0 0 0 0 0 0 1 0]\n",
            " [0 0 0 0 0 0 1 1]\n",
            " [0 0 0 0 1 1 1 1]\n",
            " [0 0 0 1 0 0 0 0]\n",
            " [0 0 1 0 0 0 0 0]\n",
            " [0 1 0 0 0 0 0 0]\n",
            " [1 0 0 0 0 0 0 0]]\n"
          ]
        }
      ],
      "source": [
        "I = np.array([0, 1, 2, 3, 15, 16, 32, 64, 128], dtype=np.uint8)\n",
        "print(np.unpackbits(I[:, np.newaxis], axis=1))"
      ]
    },
    {
      "cell_type": "markdown",
      "metadata": {
        "id": "Q5mI_BP8oH5p"
      },
      "source": [
        "#### 96. Given a two dimensional array, how to extract unique rows? (★★★) \n",
        "(**hint**: np.ascontiguousarray)"
      ]
    },
    {
      "cell_type": "code",
      "execution_count": 119,
      "metadata": {
        "id": "OzITHF9OoH5p",
        "outputId": "15156b96-bc4b-4091-da76-81edbbb09870",
        "colab": {
          "base_uri": "https://localhost:8080/"
        }
      },
      "outputs": [
        {
          "output_type": "stream",
          "name": "stdout",
          "text": [
            "Original Array :\n",
            "[[10 11 12 11]\n",
            " [13 11 12 11]\n",
            " [10 11 12 11]\n",
            " [10 11 12 11]]\n",
            "Unique Rows:\n",
            "[[10 11 12 11]\n",
            " [13 11 12 11]]\n"
          ]
        }
      ],
      "source": [
        "arr2D = np.array([[10, 11, 12, 11],\n",
        "                     [13, 11, 12, 11],\n",
        "                     [10, 11, 12, 11],\n",
        "                     [10, 11, 12, 11]])\n",
        "  \n",
        "print('Original Array :' ,\n",
        "      arr2D, sep = '\\n')\n",
        "  \n",
        "uniqueRows = np.unique(arr2D, \n",
        "                       axis = 0)\n",
        "  \n",
        "print('Unique Rows:',\n",
        "      uniqueRows, sep = '\\n')"
      ]
    },
    {
      "cell_type": "markdown",
      "metadata": {
        "id": "K4X6uplDoH5p"
      },
      "source": [
        "#### 97. Considering 2 vectors A & B, write the einsum equivalent of inner, outer, sum, and mul function (★★★) \n",
        "(**hint**: np.einsum)"
      ]
    },
    {
      "cell_type": "code",
      "execution_count": 120,
      "metadata": {
        "id": "J4AJ4SZFoH5p",
        "outputId": "899fc143-83d4-40e7-f5af-378e8798ec1d",
        "colab": {
          "base_uri": "https://localhost:8080/"
        }
      },
      "outputs": [
        {
          "output_type": "execute_result",
          "data": {
            "text/plain": [
              "array([[2.28332489e+00, 3.12313606e+01, 5.75179464e+01, 5.35724113e+00,\n",
              "        1.85022664e+01],\n",
              "       [3.44249970e+00, 4.70865755e+01, 8.67180639e+01, 8.07695002e+00,\n",
              "        2.78953061e+01],\n",
              "       [2.12271694e+00, 2.90345621e+01, 5.34721624e+01, 4.98041542e+00,\n",
              "        1.72008261e+01],\n",
              "       [3.08421335e+00, 4.21859280e+01, 7.76926749e+01, 7.23632221e+00,\n",
              "        2.49920357e+01],\n",
              "       [5.50542490e-02, 7.53033051e-01, 1.38684046e+00, 1.29170793e-01,\n",
              "        4.46116270e-01]])"
            ]
          },
          "metadata": {},
          "execution_count": 120
        }
      ],
      "source": [
        "A = np.random.uniform(0,10,5)\n",
        "B = np.random.uniform(0,10,5)\n",
        "\n",
        "np.einsum('i->', A)       \n",
        "np.einsum('i,i->i', A, B)\n",
        "np.einsum('i,i', A, B)    \n",
        "np.einsum('i,j->ij', A, B)"
      ]
    },
    {
      "cell_type": "markdown",
      "metadata": {
        "id": "g2wAa4SRoH5p"
      },
      "source": [
        "#### 98. Considering a path described by two vectors (X,Y), how to sample it using equidistant samples (★★★)? \n",
        "(**hint**: np.cumsum, np.interp)"
      ]
    },
    {
      "cell_type": "code",
      "execution_count": 125,
      "metadata": {
        "collapsed": true,
        "id": "p9iev_yfoH5p"
      },
      "outputs": [],
      "source": [
        "phi = np.arange(0, 10*np.pi, 0.1)\n",
        "a = 1\n",
        "x = a*phi*np.cos(phi)\n",
        "y = a*phi*np.sin(phi)\n",
        "\n",
        "dr = (np.diff(x)**2 + np.diff(y)**2)**.5\n",
        "r = np.zeros_like(x)\n",
        "r[1:] = np.cumsum(dr)   \n",
        "x_int = np.interp(r_int, r, x)               \n",
        "y_int = np.interp(r_int, r, y)\n"
      ]
    },
    {
      "cell_type": "markdown",
      "metadata": {
        "id": "KoZ_1IOtoH5p"
      },
      "source": [
        "#### 99. Given an integer n and a 2D array X, select from X the rows which can be interpreted as draws from a multinomial distribution with n degrees, i.e., the rows which only contain integers and which sum to n. (★★★) \n",
        "(**hint**: np.logical\\_and.reduce, np.mod)"
      ]
    },
    {
      "cell_type": "code",
      "execution_count": 126,
      "metadata": {
        "id": "Z8gf85O_oH5p",
        "outputId": "ae88c5c2-8d67-4f43-bcd8-f79be20710d5",
        "colab": {
          "base_uri": "https://localhost:8080/"
        }
      },
      "outputs": [
        {
          "output_type": "stream",
          "name": "stdout",
          "text": [
            "[[2. 0. 1. 1.]]\n"
          ]
        }
      ],
      "source": [
        "X = np.asarray([[1.0, 0.0, 3.0, 8.0],\n",
        "                [2.0, 0.0, 1.0, 1.0],\n",
        "                [1.5, 2.5, 1.0, 0.0]])\n",
        "n = 4\n",
        "M = np.logical_and.reduce(np.mod(X, 1) == 0, axis=-1)\n",
        "M &= (X.sum(axis=-1) == n)\n",
        "print(X[M])"
      ]
    },
    {
      "cell_type": "markdown",
      "metadata": {
        "id": "ruYCX9l2oH5p"
      },
      "source": [
        "#### 100. Compute bootstrapped 95% confidence intervals for the mean of a 1D array X (i.e., resample the elements of an array with replacement N times, compute the mean of each sample, and then compute percentiles over the means). (★★★) \n",
        "(**hint**: np.percentile)"
      ]
    },
    {
      "cell_type": "code",
      "execution_count": 127,
      "metadata": {
        "id": "U_gHcaKBoH5q",
        "outputId": "829830cb-a522-484c-e1f7-71088b8404eb",
        "colab": {
          "base_uri": "https://localhost:8080/"
        }
      },
      "outputs": [
        {
          "output_type": "stream",
          "name": "stdout",
          "text": [
            "[-0.30103447  0.10510157]\n"
          ]
        }
      ],
      "source": [
        "X = np.random.randn(100) \n",
        "N = 1000\n",
        "idx = np.random.randint(0, X.size, (N, X.size))\n",
        "means = X[idx].mean(axis=1)\n",
        "confint = np.percentile(means, [2.5, 97.5])\n",
        "print(confint)"
      ]
    }
  ],
  "metadata": {
    "kernelspec": {
      "display_name": "Python 3",
      "language": "python",
      "name": "python3"
    },
    "language_info": {
      "codemirror_mode": {
        "name": "ipython",
        "version": 3
      },
      "file_extension": ".py",
      "mimetype": "text/x-python",
      "name": "python",
      "nbconvert_exporter": "python",
      "pygments_lexer": "ipython3",
      "version": "3.8.3"
    },
    "colab": {
      "name": "Numpy_tasks.ipynb",
      "provenance": [],
      "include_colab_link": true
    }
  },
  "nbformat": 4,
  "nbformat_minor": 0
}